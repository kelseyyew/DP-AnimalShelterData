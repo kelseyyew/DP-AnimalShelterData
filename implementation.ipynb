{
 "cells": [
  {
   "cell_type": "code",
   "execution_count": 17,
   "id": "ac63843e",
   "metadata": {},
   "outputs": [],
   "source": [
    "import snsql\n",
    "from snsql import Privacy\n",
    "import pandas as pd\n",
    "from pandasql import sqldf\n",
    "import time"
   ]
  },
  {
   "cell_type": "code",
   "execution_count": 18,
   "id": "83c17b89",
   "metadata": {},
   "outputs": [],
   "source": [
    "csv_path = 'aac_intakes_outcomes.csv'\n",
    "meta_path = 'aac_intakes_outcomes.yaml'\n",
    "dat = pd.read_csv(csv_path)"
   ]
  },
  {
   "cell_type": "code",
   "execution_count": 19,
   "id": "d7132556",
   "metadata": {},
   "outputs": [],
   "source": [
    "new_df = dat[['intake_year',\n",
    "              'age_upon_outcome', \n",
    "              'animal_id_outcome',\n",
    "              'outcome_subtype',\n",
    "              'outcome_type',\n",
    "              'sex_upon_outcome',\n",
    "              'age_upon_outcome_(days)',\n",
    "              'age_upon_outcome_(years)',\n",
    "              'outcome_datetime',\n",
    "              'outcome_weekday',\n",
    "              'outcome_number',\n",
    "              'age_upon_intake',\n",
    "              'animal_id_intake',\n",
    "              'animal_type',\n",
    "              'breed',\n",
    "              'color',\n",
    "              'found_location',\n",
    "              'intake_condition',\n",
    "              'intake_type',\n",
    "              'sex_upon_intake',\n",
    "              'age_upon_intake_(days)',\n",
    "              'age_upon_intake_(years)',\n",
    "              'intake_datetime',\n",
    "              'intake_weekday',\n",
    "              'time_in_shelter_days'\n",
    "             ]]"
   ]
  },
  {
   "cell_type": "code",
   "execution_count": 20,
   "id": "4354fbf7",
   "metadata": {},
   "outputs": [],
   "source": [
    "new_df = new_df[new_df['animal_type'] == 'Dog']\n",
    "new_df = new_df[new_df['intake_year'] == 2017]"
   ]
  },
  {
   "cell_type": "code",
   "execution_count": 21,
   "id": "d4edb590",
   "metadata": {},
   "outputs": [],
   "source": [
    "new_df = new_df.drop(['animal_type', 'intake_year'], axis=1)"
   ]
  },
  {
   "cell_type": "code",
   "execution_count": 22,
   "id": "8b804b03",
   "metadata": {},
   "outputs": [
    {
     "data": {
      "text/html": [
       "<div>\n",
       "<style scoped>\n",
       "    .dataframe tbody tr th:only-of-type {\n",
       "        vertical-align: middle;\n",
       "    }\n",
       "\n",
       "    .dataframe tbody tr th {\n",
       "        vertical-align: top;\n",
       "    }\n",
       "\n",
       "    .dataframe thead th {\n",
       "        text-align: right;\n",
       "    }\n",
       "</style>\n",
       "<table border=\"1\" class=\"dataframe\">\n",
       "  <thead>\n",
       "    <tr style=\"text-align: right;\">\n",
       "      <th></th>\n",
       "      <th>age_upon_outcome</th>\n",
       "      <th>animal_id_outcome</th>\n",
       "      <th>outcome_subtype</th>\n",
       "      <th>outcome_type</th>\n",
       "      <th>sex_upon_outcome</th>\n",
       "      <th>age_upon_outcome_(days)</th>\n",
       "      <th>age_upon_outcome_(years)</th>\n",
       "      <th>outcome_datetime</th>\n",
       "      <th>outcome_weekday</th>\n",
       "      <th>outcome_number</th>\n",
       "      <th>...</th>\n",
       "      <th>color</th>\n",
       "      <th>found_location</th>\n",
       "      <th>intake_condition</th>\n",
       "      <th>intake_type</th>\n",
       "      <th>sex_upon_intake</th>\n",
       "      <th>age_upon_intake_(days)</th>\n",
       "      <th>age_upon_intake_(years)</th>\n",
       "      <th>intake_datetime</th>\n",
       "      <th>intake_weekday</th>\n",
       "      <th>time_in_shelter_days</th>\n",
       "    </tr>\n",
       "  </thead>\n",
       "  <tbody>\n",
       "    <tr>\n",
       "      <th>0</th>\n",
       "      <td>10 years</td>\n",
       "      <td>A006100</td>\n",
       "      <td>NaN</td>\n",
       "      <td>Return to Owner</td>\n",
       "      <td>Neutered Male</td>\n",
       "      <td>3650</td>\n",
       "      <td>10.000000</td>\n",
       "      <td>2017-12-07 14:07:00</td>\n",
       "      <td>Thursday</td>\n",
       "      <td>1.0</td>\n",
       "      <td>...</td>\n",
       "      <td>Yellow/White</td>\n",
       "      <td>Colony Creek And Hunters Trace in Austin (TX)</td>\n",
       "      <td>Normal</td>\n",
       "      <td>Stray</td>\n",
       "      <td>Neutered Male</td>\n",
       "      <td>3650</td>\n",
       "      <td>10.000000</td>\n",
       "      <td>2017-12-07 00:00:00</td>\n",
       "      <td>Thursday</td>\n",
       "      <td>0.588194</td>\n",
       "    </tr>\n",
       "    <tr>\n",
       "      <th>36</th>\n",
       "      <td>18 years</td>\n",
       "      <td>A251402</td>\n",
       "      <td>NaN</td>\n",
       "      <td>Return to Owner</td>\n",
       "      <td>Spayed Female</td>\n",
       "      <td>6570</td>\n",
       "      <td>18.000000</td>\n",
       "      <td>2017-10-23 11:32:00</td>\n",
       "      <td>Monday</td>\n",
       "      <td>1.0</td>\n",
       "      <td>...</td>\n",
       "      <td>Tan</td>\n",
       "      <td>2905 French Place in Austin (TX)</td>\n",
       "      <td>Normal</td>\n",
       "      <td>Stray</td>\n",
       "      <td>Spayed Female</td>\n",
       "      <td>6570</td>\n",
       "      <td>18.000000</td>\n",
       "      <td>2017-10-22 18:41:00</td>\n",
       "      <td>Sunday</td>\n",
       "      <td>0.702083</td>\n",
       "    </tr>\n",
       "    <tr>\n",
       "      <th>58</th>\n",
       "      <td>17 years</td>\n",
       "      <td>A285685</td>\n",
       "      <td>NaN</td>\n",
       "      <td>Return to Owner</td>\n",
       "      <td>Neutered Male</td>\n",
       "      <td>6205</td>\n",
       "      <td>17.000000</td>\n",
       "      <td>2017-04-13 11:56:00</td>\n",
       "      <td>Thursday</td>\n",
       "      <td>1.0</td>\n",
       "      <td>...</td>\n",
       "      <td>White/Black</td>\n",
       "      <td>1704 Nelms Dr #1925 in Austin (TX)</td>\n",
       "      <td>Normal</td>\n",
       "      <td>Stray</td>\n",
       "      <td>Neutered Male</td>\n",
       "      <td>6205</td>\n",
       "      <td>17.000000</td>\n",
       "      <td>2017-04-12 16:04:00</td>\n",
       "      <td>Wednesday</td>\n",
       "      <td>0.827778</td>\n",
       "    </tr>\n",
       "    <tr>\n",
       "      <th>63</th>\n",
       "      <td>15 years</td>\n",
       "      <td>A291843</td>\n",
       "      <td>NaN</td>\n",
       "      <td>Return to Owner</td>\n",
       "      <td>Neutered Male</td>\n",
       "      <td>5475</td>\n",
       "      <td>15.000000</td>\n",
       "      <td>2017-12-12 13:31:00</td>\n",
       "      <td>Tuesday</td>\n",
       "      <td>1.0</td>\n",
       "      <td>...</td>\n",
       "      <td>Brown/Tan</td>\n",
       "      <td>Austin (TX)</td>\n",
       "      <td>Normal</td>\n",
       "      <td>Public Assist</td>\n",
       "      <td>Neutered Male</td>\n",
       "      <td>5475</td>\n",
       "      <td>15.000000</td>\n",
       "      <td>2017-12-09 02:11:00</td>\n",
       "      <td>Saturday</td>\n",
       "      <td>3.472222</td>\n",
       "    </tr>\n",
       "    <tr>\n",
       "      <th>71</th>\n",
       "      <td>15 years</td>\n",
       "      <td>A297699</td>\n",
       "      <td>NaN</td>\n",
       "      <td>Return to Owner</td>\n",
       "      <td>Neutered Male</td>\n",
       "      <td>5475</td>\n",
       "      <td>15.000000</td>\n",
       "      <td>2017-11-20 15:58:00</td>\n",
       "      <td>Monday</td>\n",
       "      <td>1.0</td>\n",
       "      <td>...</td>\n",
       "      <td>Red Merle</td>\n",
       "      <td>Westgate in Austin (TX)</td>\n",
       "      <td>Aged</td>\n",
       "      <td>Stray</td>\n",
       "      <td>Neutered Male</td>\n",
       "      <td>5475</td>\n",
       "      <td>15.000000</td>\n",
       "      <td>2017-11-20 08:11:00</td>\n",
       "      <td>Monday</td>\n",
       "      <td>0.324306</td>\n",
       "    </tr>\n",
       "    <tr>\n",
       "      <th>...</th>\n",
       "      <td>...</td>\n",
       "      <td>...</td>\n",
       "      <td>...</td>\n",
       "      <td>...</td>\n",
       "      <td>...</td>\n",
       "      <td>...</td>\n",
       "      <td>...</td>\n",
       "      <td>...</td>\n",
       "      <td>...</td>\n",
       "      <td>...</td>\n",
       "      <td>...</td>\n",
       "      <td>...</td>\n",
       "      <td>...</td>\n",
       "      <td>...</td>\n",
       "      <td>...</td>\n",
       "      <td>...</td>\n",
       "      <td>...</td>\n",
       "      <td>...</td>\n",
       "      <td>...</td>\n",
       "      <td>...</td>\n",
       "      <td>...</td>\n",
       "    </tr>\n",
       "    <tr>\n",
       "      <th>77137</th>\n",
       "      <td>1 year</td>\n",
       "      <td>A764534</td>\n",
       "      <td>NaN</td>\n",
       "      <td>Adoption</td>\n",
       "      <td>Spayed Female</td>\n",
       "      <td>365</td>\n",
       "      <td>1.000000</td>\n",
       "      <td>2018-01-05 16:55:00</td>\n",
       "      <td>Friday</td>\n",
       "      <td>1.0</td>\n",
       "      <td>...</td>\n",
       "      <td>Brown/White</td>\n",
       "      <td>Walnut Drive East And Georgian Drive in Austin...</td>\n",
       "      <td>Normal</td>\n",
       "      <td>Stray</td>\n",
       "      <td>Intact Female</td>\n",
       "      <td>365</td>\n",
       "      <td>1.000000</td>\n",
       "      <td>2017-12-31 16:29:00</td>\n",
       "      <td>Sunday</td>\n",
       "      <td>5.018056</td>\n",
       "    </tr>\n",
       "    <tr>\n",
       "      <th>77138</th>\n",
       "      <td>1 year</td>\n",
       "      <td>A764535</td>\n",
       "      <td>Partner</td>\n",
       "      <td>Transfer</td>\n",
       "      <td>Intact Male</td>\n",
       "      <td>365</td>\n",
       "      <td>1.000000</td>\n",
       "      <td>2018-01-04 15:10:00</td>\n",
       "      <td>Thursday</td>\n",
       "      <td>1.0</td>\n",
       "      <td>...</td>\n",
       "      <td>Black</td>\n",
       "      <td>124 West Anderson Lane in Austin (TX)</td>\n",
       "      <td>Normal</td>\n",
       "      <td>Stray</td>\n",
       "      <td>Intact Male</td>\n",
       "      <td>365</td>\n",
       "      <td>1.000000</td>\n",
       "      <td>2017-12-31 16:54:00</td>\n",
       "      <td>Sunday</td>\n",
       "      <td>3.927778</td>\n",
       "    </tr>\n",
       "    <tr>\n",
       "      <th>77139</th>\n",
       "      <td>2 months</td>\n",
       "      <td>A764536</td>\n",
       "      <td>Foster</td>\n",
       "      <td>Adoption</td>\n",
       "      <td>Spayed Female</td>\n",
       "      <td>60</td>\n",
       "      <td>0.164384</td>\n",
       "      <td>2018-01-25 17:34:00</td>\n",
       "      <td>Thursday</td>\n",
       "      <td>1.0</td>\n",
       "      <td>...</td>\n",
       "      <td>Tan</td>\n",
       "      <td>7Th Street And Chicon in Austin (TX)</td>\n",
       "      <td>Normal</td>\n",
       "      <td>Stray</td>\n",
       "      <td>Intact Female</td>\n",
       "      <td>30</td>\n",
       "      <td>0.082192</td>\n",
       "      <td>2017-12-31 17:05:00</td>\n",
       "      <td>Sunday</td>\n",
       "      <td>25.020139</td>\n",
       "    </tr>\n",
       "    <tr>\n",
       "      <th>77140</th>\n",
       "      <td>3 months</td>\n",
       "      <td>A764537</td>\n",
       "      <td>Foster</td>\n",
       "      <td>Adoption</td>\n",
       "      <td>Intact Male</td>\n",
       "      <td>90</td>\n",
       "      <td>0.246575</td>\n",
       "      <td>2018-02-13 16:13:00</td>\n",
       "      <td>Tuesday</td>\n",
       "      <td>1.0</td>\n",
       "      <td>...</td>\n",
       "      <td>Brown/White</td>\n",
       "      <td>924 E 51St in Austin (TX)</td>\n",
       "      <td>Injured</td>\n",
       "      <td>Stray</td>\n",
       "      <td>Intact Male</td>\n",
       "      <td>30</td>\n",
       "      <td>0.082192</td>\n",
       "      <td>2017-12-31 07:26:00</td>\n",
       "      <td>Sunday</td>\n",
       "      <td>44.365972</td>\n",
       "    </tr>\n",
       "    <tr>\n",
       "      <th>77584</th>\n",
       "      <td>2 years</td>\n",
       "      <td>A765283</td>\n",
       "      <td>NaN</td>\n",
       "      <td>Adoption</td>\n",
       "      <td>Intact Male</td>\n",
       "      <td>730</td>\n",
       "      <td>2.000000</td>\n",
       "      <td>2017-11-05 17:05:00</td>\n",
       "      <td>Sunday</td>\n",
       "      <td>2.0</td>\n",
       "      <td>...</td>\n",
       "      <td>Black/Tan</td>\n",
       "      <td>Crazyhorse Pass And Whitebead Trail in Travis ...</td>\n",
       "      <td>Sick</td>\n",
       "      <td>Stray</td>\n",
       "      <td>Intact Male</td>\n",
       "      <td>730</td>\n",
       "      <td>2.000000</td>\n",
       "      <td>2017-10-31 12:12:00</td>\n",
       "      <td>Tuesday</td>\n",
       "      <td>5.203472</td>\n",
       "    </tr>\n",
       "  </tbody>\n",
       "</table>\n",
       "<p>9851 rows × 23 columns</p>\n",
       "</div>"
      ],
      "text/plain": [
       "      age_upon_outcome animal_id_outcome outcome_subtype     outcome_type  \\\n",
       "0             10 years           A006100             NaN  Return to Owner   \n",
       "36            18 years           A251402             NaN  Return to Owner   \n",
       "58            17 years           A285685             NaN  Return to Owner   \n",
       "63            15 years           A291843             NaN  Return to Owner   \n",
       "71            15 years           A297699             NaN  Return to Owner   \n",
       "...                ...               ...             ...              ...   \n",
       "77137           1 year           A764534             NaN         Adoption   \n",
       "77138           1 year           A764535         Partner         Transfer   \n",
       "77139         2 months           A764536          Foster         Adoption   \n",
       "77140         3 months           A764537          Foster         Adoption   \n",
       "77584          2 years           A765283             NaN         Adoption   \n",
       "\n",
       "      sex_upon_outcome  age_upon_outcome_(days)  age_upon_outcome_(years)  \\\n",
       "0        Neutered Male                     3650                 10.000000   \n",
       "36       Spayed Female                     6570                 18.000000   \n",
       "58       Neutered Male                     6205                 17.000000   \n",
       "63       Neutered Male                     5475                 15.000000   \n",
       "71       Neutered Male                     5475                 15.000000   \n",
       "...                ...                      ...                       ...   \n",
       "77137    Spayed Female                      365                  1.000000   \n",
       "77138      Intact Male                      365                  1.000000   \n",
       "77139    Spayed Female                       60                  0.164384   \n",
       "77140      Intact Male                       90                  0.246575   \n",
       "77584      Intact Male                      730                  2.000000   \n",
       "\n",
       "          outcome_datetime outcome_weekday  outcome_number  ...         color  \\\n",
       "0      2017-12-07 14:07:00        Thursday             1.0  ...  Yellow/White   \n",
       "36     2017-10-23 11:32:00          Monday             1.0  ...           Tan   \n",
       "58     2017-04-13 11:56:00        Thursday             1.0  ...   White/Black   \n",
       "63     2017-12-12 13:31:00         Tuesday             1.0  ...     Brown/Tan   \n",
       "71     2017-11-20 15:58:00          Monday             1.0  ...     Red Merle   \n",
       "...                    ...             ...             ...  ...           ...   \n",
       "77137  2018-01-05 16:55:00          Friday             1.0  ...   Brown/White   \n",
       "77138  2018-01-04 15:10:00        Thursday             1.0  ...         Black   \n",
       "77139  2018-01-25 17:34:00        Thursday             1.0  ...           Tan   \n",
       "77140  2018-02-13 16:13:00         Tuesday             1.0  ...   Brown/White   \n",
       "77584  2017-11-05 17:05:00          Sunday             2.0  ...     Black/Tan   \n",
       "\n",
       "                                          found_location intake_condition  \\\n",
       "0          Colony Creek And Hunters Trace in Austin (TX)           Normal   \n",
       "36                      2905 French Place in Austin (TX)           Normal   \n",
       "58                    1704 Nelms Dr #1925 in Austin (TX)           Normal   \n",
       "63                                           Austin (TX)           Normal   \n",
       "71                               Westgate in Austin (TX)             Aged   \n",
       "...                                                  ...              ...   \n",
       "77137  Walnut Drive East And Georgian Drive in Austin...           Normal   \n",
       "77138              124 West Anderson Lane in Austin (TX)           Normal   \n",
       "77139               7Th Street And Chicon in Austin (TX)           Normal   \n",
       "77140                          924 E 51St in Austin (TX)          Injured   \n",
       "77584  Crazyhorse Pass And Whitebead Trail in Travis ...             Sick   \n",
       "\n",
       "         intake_type sex_upon_intake age_upon_intake_(days)  \\\n",
       "0              Stray   Neutered Male                   3650   \n",
       "36             Stray   Spayed Female                   6570   \n",
       "58             Stray   Neutered Male                   6205   \n",
       "63     Public Assist   Neutered Male                   5475   \n",
       "71             Stray   Neutered Male                   5475   \n",
       "...              ...             ...                    ...   \n",
       "77137          Stray   Intact Female                    365   \n",
       "77138          Stray     Intact Male                    365   \n",
       "77139          Stray   Intact Female                     30   \n",
       "77140          Stray     Intact Male                     30   \n",
       "77584          Stray     Intact Male                    730   \n",
       "\n",
       "      age_upon_intake_(years)      intake_datetime  intake_weekday  \\\n",
       "0                   10.000000  2017-12-07 00:00:00        Thursday   \n",
       "36                  18.000000  2017-10-22 18:41:00          Sunday   \n",
       "58                  17.000000  2017-04-12 16:04:00       Wednesday   \n",
       "63                  15.000000  2017-12-09 02:11:00        Saturday   \n",
       "71                  15.000000  2017-11-20 08:11:00          Monday   \n",
       "...                       ...                  ...             ...   \n",
       "77137                1.000000  2017-12-31 16:29:00          Sunday   \n",
       "77138                1.000000  2017-12-31 16:54:00          Sunday   \n",
       "77139                0.082192  2017-12-31 17:05:00          Sunday   \n",
       "77140                0.082192  2017-12-31 07:26:00          Sunday   \n",
       "77584                2.000000  2017-10-31 12:12:00         Tuesday   \n",
       "\n",
       "       time_in_shelter_days  \n",
       "0                  0.588194  \n",
       "36                 0.702083  \n",
       "58                 0.827778  \n",
       "63                 3.472222  \n",
       "71                 0.324306  \n",
       "...                     ...  \n",
       "77137              5.018056  \n",
       "77138              3.927778  \n",
       "77139             25.020139  \n",
       "77140             44.365972  \n",
       "77584              5.203472  \n",
       "\n",
       "[9851 rows x 23 columns]"
      ]
     },
     "execution_count": 22,
     "metadata": {},
     "output_type": "execute_result"
    }
   ],
   "source": [
    "new_df"
   ]
  },
  {
   "cell_type": "code",
   "execution_count": 11,
   "id": "4356acd4",
   "metadata": {},
   "outputs": [],
   "source": [
    "privacy = Privacy(epsilon=.0471, delta=0)"
   ]
  },
  {
   "cell_type": "code",
   "execution_count": 23,
   "id": "8ccf077d",
   "metadata": {
    "scrolled": true
   },
   "outputs": [
    {
     "name": "stderr",
     "output_type": "stream",
     "text": [
      "C:\\Users\\arnav\\anaconda3-2\\lib\\site-packages\\snsql\\sql\\private_reader.py:141: UserWarning: The following columns are of type float: age_upon_outcome_(years), outcome_number, age_upon_intake_(years), time_in_shelter_days. \n",
      "summary statistics over floats will use Mechanism.laplace, which is not floating-point safe, \n",
      "This could lead to privacy leaks.\n",
      "  warnings.warn(\n"
     ]
    }
   ],
   "source": [
    "meta_path = 'YAMLDataPrivacy.yaml'\n",
    "reader = snsql.from_df(new_df, privacy=privacy,\n",
    "metadata=meta_path)\n",
    "result = reader.execute('SELECT sex_upon_outcome, count(*) FROM MySchema.AnimalShelter group by sex_upon_outcome')\n"
   ]
  },
  {
   "cell_type": "code",
   "execution_count": 24,
   "id": "10c84ba9",
   "metadata": {},
   "outputs": [
    {
     "data": {
      "text/plain": [
       "[['sex_upon_outcome', '???'],\n",
       " ['Intact Female', 978],\n",
       " ['Intact Male', 1403],\n",
       " ['Neutered Male', 3661],\n",
       " ['Spayed Female', 3487],\n",
       " ['Unknown', 140]]"
      ]
     },
     "execution_count": 24,
     "metadata": {},
     "output_type": "execute_result"
    }
   ],
   "source": [
    "result"
   ]
  },
  {
   "cell_type": "code",
   "execution_count": null,
   "id": "46fab7f5",
   "metadata": {},
   "outputs": [],
   "source": [
    "def query_calc(epsilons, query ):\n",
    "\n",
    "    errors_list = []\n",
    "    times_list = []\n",
    "    values_list = []\n",
    "\n",
    "\n",
    "    epsilons = epsilons\n",
    "    for eps in epsilons:\n",
    "        errors = []\n",
    "        times = []\n",
    "        values = []\n",
    "\n",
    "\n",
    "        privacy = Privacy(epsilon=eps, delta=0)\n",
    "        meta_path = 'YAMLDataPrivacy.yaml'\n",
    "        reader = snsql.from_df(new_df, privacy=privacy,\n",
    "        metadata=meta_path)\n",
    "\n",
    "        for i in range(10):\n",
    "\n",
    "            t0 = time.time()\n",
    "            result = reader.execute(query)\n",
    "            t1 = time.time()\n",
    "\n",
    "            result = result[1][0]\n",
    "\n",
    "            values.append(result)\n",
    "            times.append(t1-t0)\n",
    "            errors.append(100 * (result - answer) / answer)\n",
    "\n",
    "        errors_list.append(errors)\n",
    "        times_list.append(times)\n",
    "        values_list.append(values)\n",
    "\n",
    "\n",
    "    return errors_list, times_list"
   ]
  },
  {
   "cell_type": "code",
   "execution_count": 25,
   "id": "6f8458b7",
   "metadata": {},
   "outputs": [
    {
     "data": {
      "text/html": [
       "<div>\n",
       "<style scoped>\n",
       "    .dataframe tbody tr th:only-of-type {\n",
       "        vertical-align: middle;\n",
       "    }\n",
       "\n",
       "    .dataframe tbody tr th {\n",
       "        vertical-align: top;\n",
       "    }\n",
       "\n",
       "    .dataframe thead th {\n",
       "        text-align: right;\n",
       "    }\n",
       "</style>\n",
       "<table border=\"1\" class=\"dataframe\">\n",
       "  <thead>\n",
       "    <tr style=\"text-align: right;\">\n",
       "      <th></th>\n",
       "      <th>sex_upon_outcome</th>\n",
       "      <th>count(*)</th>\n",
       "    </tr>\n",
       "  </thead>\n",
       "  <tbody>\n",
       "    <tr>\n",
       "      <th>0</th>\n",
       "      <td>Intact Female</td>\n",
       "      <td>1069</td>\n",
       "    </tr>\n",
       "    <tr>\n",
       "      <th>1</th>\n",
       "      <td>Intact Male</td>\n",
       "      <td>1287</td>\n",
       "    </tr>\n",
       "    <tr>\n",
       "      <th>2</th>\n",
       "      <td>Neutered Male</td>\n",
       "      <td>3946</td>\n",
       "    </tr>\n",
       "    <tr>\n",
       "      <th>3</th>\n",
       "      <td>Spayed Female</td>\n",
       "      <td>3487</td>\n",
       "    </tr>\n",
       "    <tr>\n",
       "      <th>4</th>\n",
       "      <td>Unknown</td>\n",
       "      <td>62</td>\n",
       "    </tr>\n",
       "  </tbody>\n",
       "</table>\n",
       "</div>"
      ],
      "text/plain": [
       "  sex_upon_outcome  count(*)\n",
       "0    Intact Female      1069\n",
       "1      Intact Male      1287\n",
       "2    Neutered Male      3946\n",
       "3    Spayed Female      3487\n",
       "4          Unknown        62"
      ]
     },
     "execution_count": 25,
     "metadata": {},
     "output_type": "execute_result"
    }
   ],
   "source": [
    "query = \"SELECT sex_upon_outcome, count(*) FROM new_df group by sex_upon_outcome\"\n",
    "df_query = sqldf(query)\n",
    "df_query"
   ]
  },
  {
   "cell_type": "code",
   "execution_count": 165,
   "id": "505ea25d",
   "metadata": {},
   "outputs": [
    {
     "name": "stderr",
     "output_type": "stream",
     "text": [
      "/Users/kelsey/.pyenv/versions/3.10.8/lib/python3.10/site-packages/snsql/sql/private_reader.py:141: UserWarning: The following columns are of type float: age_upon_outcome_(years), outcome_number, age_upon_intake_(years), time_in_shelter_days. \n",
      "summary statistics over floats will use Mechanism.laplace, which is not floating-point safe, \n",
      "This could lead to privacy leaks.\n",
      "  warnings.warn(\n"
     ]
    }
   ],
   "source": [
    "privacy = Privacy(epsilon=.99, delta=0)\n",
    "meta_path = 'YAMLDataPrivacy.yaml'\n",
    "reader = snsql.from_df(new_df, privacy=privacy,\n",
    "metadata=meta_path)\n",
    "result = reader.execute(\"SELECT count(*) FROM MySchema.AnimalShelter\")\n",
    "\n"
   ]
  },
  {
   "cell_type": "code",
   "execution_count": 166,
   "id": "165f53e4",
   "metadata": {},
   "outputs": [
    {
     "data": {
      "text/plain": [
       "[['???'], [9861]]"
      ]
     },
     "execution_count": 166,
     "metadata": {},
     "output_type": "execute_result"
    }
   ],
   "source": [
    "result"
   ]
  },
  {
   "cell_type": "code",
   "execution_count": 160,
   "id": "3e7eece8",
   "metadata": {},
   "outputs": [
    {
     "data": {
      "text/html": [
       "<div>\n",
       "<style scoped>\n",
       "    .dataframe tbody tr th:only-of-type {\n",
       "        vertical-align: middle;\n",
       "    }\n",
       "\n",
       "    .dataframe tbody tr th {\n",
       "        vertical-align: top;\n",
       "    }\n",
       "\n",
       "    .dataframe thead th {\n",
       "        text-align: right;\n",
       "    }\n",
       "</style>\n",
       "<table border=\"1\" class=\"dataframe\">\n",
       "  <thead>\n",
       "    <tr style=\"text-align: right;\">\n",
       "      <th></th>\n",
       "      <th>count(*)</th>\n",
       "    </tr>\n",
       "  </thead>\n",
       "  <tbody>\n",
       "    <tr>\n",
       "      <th>0</th>\n",
       "      <td>9846</td>\n",
       "    </tr>\n",
       "  </tbody>\n",
       "</table>\n",
       "</div>"
      ],
      "text/plain": [
       "   count(*)\n",
       "0      9846"
      ]
     },
     "execution_count": 160,
     "metadata": {},
     "output_type": "execute_result"
    }
   ],
   "source": [
    "query = \"select count(*) from (select distinct * from new_df)\"\n",
    "df_query = sqldf(query)\n",
    "df_query"
   ]
  },
  {
   "cell_type": "code",
   "execution_count": 150,
   "id": "1a330633",
   "metadata": {},
   "outputs": [
    {
     "data": {
      "text/html": [
       "<div>\n",
       "<style scoped>\n",
       "    .dataframe tbody tr th:only-of-type {\n",
       "        vertical-align: middle;\n",
       "    }\n",
       "\n",
       "    .dataframe tbody tr th {\n",
       "        vertical-align: top;\n",
       "    }\n",
       "\n",
       "    .dataframe thead th {\n",
       "        text-align: right;\n",
       "    }\n",
       "</style>\n",
       "<table border=\"1\" class=\"dataframe\">\n",
       "  <thead>\n",
       "    <tr style=\"text-align: right;\">\n",
       "      <th></th>\n",
       "      <th>animal_id_outcome</th>\n",
       "      <th>count(*)</th>\n",
       "    </tr>\n",
       "  </thead>\n",
       "  <tbody>\n",
       "    <tr>\n",
       "      <th>0</th>\n",
       "      <td>A524092</td>\n",
       "      <td>3</td>\n",
       "    </tr>\n",
       "    <tr>\n",
       "      <th>1</th>\n",
       "      <td>A559953</td>\n",
       "      <td>3</td>\n",
       "    </tr>\n",
       "    <tr>\n",
       "      <th>2</th>\n",
       "      <td>A561853</td>\n",
       "      <td>3</td>\n",
       "    </tr>\n",
       "    <tr>\n",
       "      <th>3</th>\n",
       "      <td>A615920</td>\n",
       "      <td>5</td>\n",
       "    </tr>\n",
       "    <tr>\n",
       "      <th>4</th>\n",
       "      <td>A629344</td>\n",
       "      <td>3</td>\n",
       "    </tr>\n",
       "    <tr>\n",
       "      <th>...</th>\n",
       "      <td>...</td>\n",
       "      <td>...</td>\n",
       "    </tr>\n",
       "    <tr>\n",
       "      <th>128</th>\n",
       "      <td>A760970</td>\n",
       "      <td>3</td>\n",
       "    </tr>\n",
       "    <tr>\n",
       "      <th>129</th>\n",
       "      <td>A761100</td>\n",
       "      <td>3</td>\n",
       "    </tr>\n",
       "    <tr>\n",
       "      <th>130</th>\n",
       "      <td>A761107</td>\n",
       "      <td>3</td>\n",
       "    </tr>\n",
       "    <tr>\n",
       "      <th>131</th>\n",
       "      <td>A761936</td>\n",
       "      <td>4</td>\n",
       "    </tr>\n",
       "    <tr>\n",
       "      <th>132</th>\n",
       "      <td>A762001</td>\n",
       "      <td>3</td>\n",
       "    </tr>\n",
       "  </tbody>\n",
       "</table>\n",
       "<p>133 rows × 2 columns</p>\n",
       "</div>"
      ],
      "text/plain": [
       "    animal_id_outcome  count(*)\n",
       "0             A524092         3\n",
       "1             A559953         3\n",
       "2             A561853         3\n",
       "3             A615920         5\n",
       "4             A629344         3\n",
       "..                ...       ...\n",
       "128           A760970         3\n",
       "129           A761100         3\n",
       "130           A761107         3\n",
       "131           A761936         4\n",
       "132           A762001         3\n",
       "\n",
       "[133 rows x 2 columns]"
      ]
     },
     "execution_count": 150,
     "metadata": {},
     "output_type": "execute_result"
    }
   ],
   "source": [
    "query = \"select animal_id_outcome, count(*) from new_df group by 1 having count(*) > 2 \"\n",
    "df_query = sqldf(query)\n",
    "df_query"
   ]
  },
  {
   "cell_type": "code",
   "execution_count": 173,
   "id": "50821bcc",
   "metadata": {},
   "outputs": [
    {
     "data": {
      "text/html": [
       "<div>\n",
       "<style scoped>\n",
       "    .dataframe tbody tr th:only-of-type {\n",
       "        vertical-align: middle;\n",
       "    }\n",
       "\n",
       "    .dataframe tbody tr th {\n",
       "        vertical-align: top;\n",
       "    }\n",
       "\n",
       "    .dataframe thead th {\n",
       "        text-align: right;\n",
       "    }\n",
       "</style>\n",
       "<table border=\"1\" class=\"dataframe\">\n",
       "  <thead>\n",
       "    <tr style=\"text-align: right;\">\n",
       "      <th></th>\n",
       "      <th>animal_id_outcome</th>\n",
       "      <th>count(*)</th>\n",
       "    </tr>\n",
       "  </thead>\n",
       "  <tbody>\n",
       "    <tr>\n",
       "      <th>0</th>\n",
       "      <td>A738324</td>\n",
       "      <td>6</td>\n",
       "    </tr>\n",
       "    <tr>\n",
       "      <th>1</th>\n",
       "      <td>A741582</td>\n",
       "      <td>5</td>\n",
       "    </tr>\n",
       "    <tr>\n",
       "      <th>2</th>\n",
       "      <td>A735601</td>\n",
       "      <td>5</td>\n",
       "    </tr>\n",
       "    <tr>\n",
       "      <th>3</th>\n",
       "      <td>A721033</td>\n",
       "      <td>5</td>\n",
       "    </tr>\n",
       "    <tr>\n",
       "      <th>4</th>\n",
       "      <td>A665334</td>\n",
       "      <td>5</td>\n",
       "    </tr>\n",
       "    <tr>\n",
       "      <th>...</th>\n",
       "      <td>...</td>\n",
       "      <td>...</td>\n",
       "    </tr>\n",
       "    <tr>\n",
       "      <th>128</th>\n",
       "      <td>A633994</td>\n",
       "      <td>3</td>\n",
       "    </tr>\n",
       "    <tr>\n",
       "      <th>129</th>\n",
       "      <td>A629344</td>\n",
       "      <td>3</td>\n",
       "    </tr>\n",
       "    <tr>\n",
       "      <th>130</th>\n",
       "      <td>A561853</td>\n",
       "      <td>3</td>\n",
       "    </tr>\n",
       "    <tr>\n",
       "      <th>131</th>\n",
       "      <td>A559953</td>\n",
       "      <td>3</td>\n",
       "    </tr>\n",
       "    <tr>\n",
       "      <th>132</th>\n",
       "      <td>A524092</td>\n",
       "      <td>3</td>\n",
       "    </tr>\n",
       "  </tbody>\n",
       "</table>\n",
       "<p>133 rows × 2 columns</p>\n",
       "</div>"
      ],
      "text/plain": [
       "    animal_id_outcome  count(*)\n",
       "0             A738324         6\n",
       "1             A741582         5\n",
       "2             A735601         5\n",
       "3             A721033         5\n",
       "4             A665334         5\n",
       "..                ...       ...\n",
       "128           A633994         3\n",
       "129           A629344         3\n",
       "130           A561853         3\n",
       "131           A559953         3\n",
       "132           A524092         3\n",
       "\n",
       "[133 rows x 2 columns]"
      ]
     },
     "execution_count": 173,
     "metadata": {},
     "output_type": "execute_result"
    }
   ],
   "source": [
    "query = \"select animal_id_outcome, count(*) from new_df group by 1 having count(*) > 2 order by 2 DESC \"\n",
    "df_query = sqldf(query)\n",
    "df_query"
   ]
  },
  {
   "cell_type": "code",
   "execution_count": 32,
   "id": "d5f041ea",
   "metadata": {},
   "outputs": [
    {
     "data": {
      "text/plain": [
       "9846"
      ]
     },
     "execution_count": 32,
     "metadata": {},
     "output_type": "execute_result"
    }
   ],
   "source": [
    "query = \"select count(*) from (select distinct * from new_df)\"\n",
    "df_query = sqldf(query)\n",
    "answer = df_query.iloc[0][0]\n",
    "answer"
   ]
  },
  {
   "cell_type": "code",
   "execution_count": 111,
   "id": "b60ae8ea",
   "metadata": {},
   "outputs": [
    {
     "data": {
      "text/html": [
       "<div>\n",
       "<style scoped>\n",
       "    .dataframe tbody tr th:only-of-type {\n",
       "        vertical-align: middle;\n",
       "    }\n",
       "\n",
       "    .dataframe tbody tr th {\n",
       "        vertical-align: top;\n",
       "    }\n",
       "\n",
       "    .dataframe thead th {\n",
       "        text-align: right;\n",
       "    }\n",
       "</style>\n",
       "<table border=\"1\" class=\"dataframe\">\n",
       "  <thead>\n",
       "    <tr style=\"text-align: right;\">\n",
       "      <th></th>\n",
       "      <th>breed</th>\n",
       "      <th>count(*)</th>\n",
       "    </tr>\n",
       "  </thead>\n",
       "  <tbody>\n",
       "    <tr>\n",
       "      <th>0</th>\n",
       "      <td>Afghan Hound/Labrador Retriever</td>\n",
       "      <td>1</td>\n",
       "    </tr>\n",
       "    <tr>\n",
       "      <th>1</th>\n",
       "      <td>Airedale Terrier Mix</td>\n",
       "      <td>1</td>\n",
       "    </tr>\n",
       "    <tr>\n",
       "      <th>2</th>\n",
       "      <td>Akbash Mix</td>\n",
       "      <td>2</td>\n",
       "    </tr>\n",
       "    <tr>\n",
       "      <th>3</th>\n",
       "      <td>Akita</td>\n",
       "      <td>2</td>\n",
       "    </tr>\n",
       "    <tr>\n",
       "      <th>4</th>\n",
       "      <td>Akita Mix</td>\n",
       "      <td>7</td>\n",
       "    </tr>\n",
       "    <tr>\n",
       "      <th>...</th>\n",
       "      <td>...</td>\n",
       "      <td>...</td>\n",
       "    </tr>\n",
       "    <tr>\n",
       "      <th>683</th>\n",
       "      <td>Yorkshire Terrier/Miniature Schnauzer</td>\n",
       "      <td>5</td>\n",
       "    </tr>\n",
       "    <tr>\n",
       "      <th>684</th>\n",
       "      <td>Yorkshire Terrier/Pomeranian</td>\n",
       "      <td>1</td>\n",
       "    </tr>\n",
       "    <tr>\n",
       "      <th>685</th>\n",
       "      <td>Yorkshire Terrier/Shih Tzu</td>\n",
       "      <td>1</td>\n",
       "    </tr>\n",
       "    <tr>\n",
       "      <th>686</th>\n",
       "      <td>Yorkshire Terrier/Standard Poodle</td>\n",
       "      <td>1</td>\n",
       "    </tr>\n",
       "    <tr>\n",
       "      <th>687</th>\n",
       "      <td>Yorkshire Terrier/Yorkshire Terrier</td>\n",
       "      <td>1</td>\n",
       "    </tr>\n",
       "  </tbody>\n",
       "</table>\n",
       "<p>688 rows × 2 columns</p>\n",
       "</div>"
      ],
      "text/plain": [
       "                                     breed  count(*)\n",
       "0          Afghan Hound/Labrador Retriever         1\n",
       "1                     Airedale Terrier Mix         1\n",
       "2                               Akbash Mix         2\n",
       "3                                    Akita         2\n",
       "4                                Akita Mix         7\n",
       "..                                     ...       ...\n",
       "683  Yorkshire Terrier/Miniature Schnauzer         5\n",
       "684           Yorkshire Terrier/Pomeranian         1\n",
       "685             Yorkshire Terrier/Shih Tzu         1\n",
       "686      Yorkshire Terrier/Standard Poodle         1\n",
       "687    Yorkshire Terrier/Yorkshire Terrier         1\n",
       "\n",
       "[688 rows x 2 columns]"
      ]
     },
     "execution_count": 111,
     "metadata": {},
     "output_type": "execute_result"
    }
   ],
   "source": [
    "query = \"select breed, count(*) from (select distinct * from new_df) group by breed\"\n",
    "df_query = sqldf(query)\n",
    "df_query"
   ]
  },
  {
   "cell_type": "code",
   "execution_count": 33,
   "id": "76d8e3b0",
   "metadata": {},
   "outputs": [],
   "source": [
    "def query_calc(epsilons, query ):\n",
    "\n",
    "    errors_list = []\n",
    "    times_list = []\n",
    "    values_list = []\n",
    "\n",
    "\n",
    "    epsilons = epsilons\n",
    "    for eps in epsilons:\n",
    "        errors = []\n",
    "        times = []\n",
    "        values = []\n",
    "\n",
    "\n",
    "        privacy = Privacy(epsilon=eps, delta=0)\n",
    "        meta_path = 'YAMLDataPrivacy.yaml'\n",
    "        reader = snsql.from_df(new_df, privacy=privacy,\n",
    "        metadata=meta_path)\n",
    "\n",
    "        for i in range(10):\n",
    "\n",
    "            t0 = time.time()\n",
    "            result = reader.execute(query)\n",
    "            t1 = time.time()\n",
    "\n",
    "            result = result[1][0]\n",
    "\n",
    "            values.append(result)\n",
    "            times.append(t1-t0)\n",
    "            errors.append(100 * (result - answer) / answer)\n",
    "\n",
    "        errors_list.append(errors)\n",
    "        times_list.append(times)\n",
    "        values_list.append(values)\n",
    "\n",
    "\n",
    "    return errors_list, times_list\n"
   ]
  },
  {
   "cell_type": "code",
   "execution_count": 39,
   "id": "3268533c",
   "metadata": {},
   "outputs": [
    {
     "name": "stderr",
     "output_type": "stream",
     "text": [
      "C:\\Users\\arnav\\anaconda3-2\\lib\\site-packages\\snsql\\sql\\private_reader.py:141: UserWarning: The following columns are of type float: age_upon_outcome_(years), outcome_number, age_upon_intake_(years), time_in_shelter_days. \n",
      "summary statistics over floats will use Mechanism.laplace, which is not floating-point safe, \n",
      "This could lead to privacy leaks.\n",
      "  warnings.warn(\n",
      "C:\\Users\\arnav\\anaconda3-2\\lib\\site-packages\\snsql\\sql\\private_reader.py:141: UserWarning: The following columns are of type float: age_upon_outcome_(years), outcome_number, age_upon_intake_(years), time_in_shelter_days. \n",
      "summary statistics over floats will use Mechanism.laplace, which is not floating-point safe, \n",
      "This could lead to privacy leaks.\n",
      "  warnings.warn(\n",
      "C:\\Users\\arnav\\anaconda3-2\\lib\\site-packages\\snsql\\sql\\private_reader.py:141: UserWarning: The following columns are of type float: age_upon_outcome_(years), outcome_number, age_upon_intake_(years), time_in_shelter_days. \n",
      "summary statistics over floats will use Mechanism.laplace, which is not floating-point safe, \n",
      "This could lead to privacy leaks.\n",
      "  warnings.warn(\n",
      "C:\\Users\\arnav\\anaconda3-2\\lib\\site-packages\\snsql\\sql\\private_reader.py:141: UserWarning: The following columns are of type float: age_upon_outcome_(years), outcome_number, age_upon_intake_(years), time_in_shelter_days. \n",
      "summary statistics over floats will use Mechanism.laplace, which is not floating-point safe, \n",
      "This could lead to privacy leaks.\n",
      "  warnings.warn(\n",
      "C:\\Users\\arnav\\anaconda3-2\\lib\\site-packages\\snsql\\sql\\private_reader.py:141: UserWarning: The following columns are of type float: age_upon_outcome_(years), outcome_number, age_upon_intake_(years), time_in_shelter_days. \n",
      "summary statistics over floats will use Mechanism.laplace, which is not floating-point safe, \n",
      "This could lead to privacy leaks.\n",
      "  warnings.warn(\n",
      "C:\\Users\\arnav\\anaconda3-2\\lib\\site-packages\\snsql\\sql\\private_reader.py:141: UserWarning: The following columns are of type float: age_upon_outcome_(years), outcome_number, age_upon_intake_(years), time_in_shelter_days. \n",
      "summary statistics over floats will use Mechanism.laplace, which is not floating-point safe, \n",
      "This could lead to privacy leaks.\n",
      "  warnings.warn(\n"
     ]
    },
    {
     "ename": "UFuncTypeError",
     "evalue": "ufunc 'subtract' did not contain a loop with signature matching types (dtype('<U31'), dtype('<U31')) -> dtype('<U31')",
     "output_type": "error",
     "traceback": [
      "\u001b[1;31m---------------------------------------------------------------------------\u001b[0m",
      "\u001b[1;31mUFuncTypeError\u001b[0m                            Traceback (most recent call last)",
      "\u001b[1;32m~\\AppData\\Local\\Temp/ipykernel_232636/2647889080.py\u001b[0m in \u001b[0;36m<module>\u001b[1;34m\u001b[0m\n\u001b[0;32m      1\u001b[0m \u001b[0merrors_list_overall_count\u001b[0m\u001b[1;33m,\u001b[0m \u001b[0mtimes_list_overall_count\u001b[0m \u001b[1;33m=\u001b[0m \u001b[0mquery_calc\u001b[0m\u001b[1;33m(\u001b[0m\u001b[0mepsilons\u001b[0m \u001b[1;33m=\u001b[0m \u001b[1;33m[\u001b[0m\u001b[1;36m.005\u001b[0m\u001b[1;33m,\u001b[0m \u001b[1;36m.01\u001b[0m\u001b[1;33m,\u001b[0m \u001b[1;36m.015\u001b[0m\u001b[1;33m,\u001b[0m \u001b[1;36m.02\u001b[0m\u001b[1;33m,\u001b[0m \u001b[1;36m.025\u001b[0m\u001b[1;33m]\u001b[0m \u001b[1;33m,\u001b[0m \u001b[0mquery\u001b[0m \u001b[1;33m=\u001b[0m \u001b[1;34m\"SELECT count(*) FROM MySchema.AnimalShelter\"\u001b[0m \u001b[1;33m)\u001b[0m\u001b[1;33m\u001b[0m\u001b[1;33m\u001b[0m\u001b[0m\n\u001b[1;32m----> 2\u001b[1;33m \u001b[0merrors_list_breed_count\u001b[0m\u001b[1;33m,\u001b[0m \u001b[0mtimes_list_breed_count\u001b[0m \u001b[1;33m=\u001b[0m \u001b[0mquery_calc\u001b[0m\u001b[1;33m(\u001b[0m\u001b[0mepsilons\u001b[0m \u001b[1;33m=\u001b[0m \u001b[1;33m[\u001b[0m\u001b[1;36m.01\u001b[0m\u001b[1;33m,\u001b[0m \u001b[1;36m.02\u001b[0m\u001b[1;33m,\u001b[0m \u001b[1;36m.03\u001b[0m\u001b[1;33m,\u001b[0m \u001b[1;36m.04\u001b[0m\u001b[1;33m,\u001b[0m \u001b[1;36m.05\u001b[0m\u001b[1;33m]\u001b[0m\u001b[1;33m,\u001b[0m \u001b[0mquery\u001b[0m \u001b[1;33m=\u001b[0m \u001b[1;34m\"SELECT breed, count(*) FROM MySchema.AnimalShelter group by breed\"\u001b[0m\u001b[1;33m)\u001b[0m\u001b[1;33m\u001b[0m\u001b[1;33m\u001b[0m\u001b[0m\n\u001b[0m",
      "\u001b[1;32m~\\AppData\\Local\\Temp/ipykernel_232636/4086780568.py\u001b[0m in \u001b[0;36mquery_calc\u001b[1;34m(epsilons, query)\u001b[0m\n\u001b[0;32m     28\u001b[0m             \u001b[0mvalues\u001b[0m\u001b[1;33m.\u001b[0m\u001b[0mappend\u001b[0m\u001b[1;33m(\u001b[0m\u001b[0mresult\u001b[0m\u001b[1;33m)\u001b[0m\u001b[1;33m\u001b[0m\u001b[1;33m\u001b[0m\u001b[0m\n\u001b[0;32m     29\u001b[0m             \u001b[0mtimes\u001b[0m\u001b[1;33m.\u001b[0m\u001b[0mappend\u001b[0m\u001b[1;33m(\u001b[0m\u001b[0mt1\u001b[0m\u001b[1;33m-\u001b[0m\u001b[0mt0\u001b[0m\u001b[1;33m)\u001b[0m\u001b[1;33m\u001b[0m\u001b[1;33m\u001b[0m\u001b[0m\n\u001b[1;32m---> 30\u001b[1;33m             \u001b[0merrors\u001b[0m\u001b[1;33m.\u001b[0m\u001b[0mappend\u001b[0m\u001b[1;33m(\u001b[0m\u001b[1;36m100\u001b[0m \u001b[1;33m*\u001b[0m \u001b[1;33m(\u001b[0m\u001b[0mresult\u001b[0m \u001b[1;33m-\u001b[0m \u001b[0manswer\u001b[0m\u001b[1;33m)\u001b[0m \u001b[1;33m/\u001b[0m \u001b[0manswer\u001b[0m\u001b[1;33m)\u001b[0m\u001b[1;33m\u001b[0m\u001b[1;33m\u001b[0m\u001b[0m\n\u001b[0m\u001b[0;32m     31\u001b[0m \u001b[1;33m\u001b[0m\u001b[0m\n\u001b[0;32m     32\u001b[0m         \u001b[0merrors_list\u001b[0m\u001b[1;33m.\u001b[0m\u001b[0mappend\u001b[0m\u001b[1;33m(\u001b[0m\u001b[0merrors\u001b[0m\u001b[1;33m)\u001b[0m\u001b[1;33m\u001b[0m\u001b[1;33m\u001b[0m\u001b[0m\n",
      "\u001b[1;31mUFuncTypeError\u001b[0m: ufunc 'subtract' did not contain a loop with signature matching types (dtype('<U31'), dtype('<U31')) -> dtype('<U31')"
     ]
    }
   ],
   "source": [
    "errors_list_overall_count, times_list_overall_count = query_calc(epsilons = [.005, .01, .015, .02, .025] , query = \"SELECT count(*) FROM MySchema.AnimalShelter\" )\n",
    "#errors_list_breed_count, times_list_breed_count = query_calc(epsilons = [.01, .02, .03, .04, .05], query = \"SELECT breed, count(*) FROM MySchema.AnimalShelter group by breed\")"
   ]
  },
  {
   "cell_type": "code",
   "execution_count": 91,
   "id": "1f134adb",
   "metadata": {},
   "outputs": [],
   "source": [
    "result = reader.execute(\"SELECT breed, count(*) FROM MySchema.AnimalShelter group by breed\")\n",
    "#result\n",
    "\n",
    "#df_query['count(*)'].shape\n",
    "#type(df_query['count(*)'].tolist())\n",
    "#df_query['count(*)'].tolist()\n",
    "result2 = result[1:]"
   ]
  },
  {
   "cell_type": "code",
   "execution_count": 85,
   "id": "c2c452be",
   "metadata": {},
   "outputs": [],
   "source": [
    "df2 = df_query.values.tolist()"
   ]
  },
  {
   "cell_type": "code",
   "execution_count": 108,
   "id": "af2f984e",
   "metadata": {},
   "outputs": [
    {
     "data": {
      "text/plain": [
       "-850.6969131099669"
      ]
     },
     "execution_count": 108,
     "metadata": {},
     "output_type": "execute_result"
    }
   ],
   "source": [
    "breed_error_list = []\n",
    "\n",
    "for i in range(len(result2)):\n",
    "    breed_error_list.append(100 * ((result2[i][1] - df2[i][1]) / df2[i][1]))\n",
    "    \n",
    "avg_error = sum(breed_error_list)/len(breed_error_list)\n",
    "avg_error\n",
    "#breed_error_list"
   ]
  },
  {
   "cell_type": "code",
   "execution_count": 112,
   "id": "fa442e5d",
   "metadata": {},
   "outputs": [],
   "source": [
    "def query_calc2(epsilons, query ):\n",
    "\n",
    "    errors_list = []\n",
    "    times_list = []\n",
    "    values_list = []\n",
    "\n",
    "\n",
    "    epsilons = epsilons\n",
    "    for eps in epsilons:\n",
    "        errors = []\n",
    "        times = []\n",
    "        values = []\n",
    "\n",
    "\n",
    "        privacy = Privacy(epsilon=eps, delta=0)\n",
    "        meta_path = 'YAMLDataPrivacy.yaml'\n",
    "        reader = snsql.from_df(new_df, privacy=privacy,\n",
    "        metadata=meta_path)\n",
    "\n",
    "        for i in range(10):\n",
    "\n",
    "            t0 = time.time()\n",
    "            result = reader.execute(query)\n",
    "            t1 = time.time()\n",
    "\n",
    "            result2 = result[1:]\n",
    "            df2 = df_query.values.tolist()\n",
    "            \n",
    "            breed_error_list = []\n",
    "\n",
    "            for i in range(len(result2)):\n",
    "                breed_error_list.append(100 * ((result2[i][1] - df2[i][1]) / df2[i][1]))\n",
    "    \n",
    "            avg_error = sum(breed_error_list)/len(breed_error_list)\n",
    "            avg_error\n",
    "\n",
    "            \n",
    "            times.append(t1-t0)\n",
    "            errors.append(avg_error)\n",
    "\n",
    "        errors_list.append(errors)\n",
    "        times_list.append(times)\n",
    "\n",
    "\n",
    "    return errors_list, times_list\n"
   ]
  },
  {
   "cell_type": "code",
   "execution_count": 118,
   "id": "0cbc7a23",
   "metadata": {},
   "outputs": [
    {
     "data": {
      "text/plain": [
       "Text(0, 0.5, 'error (%)')"
      ]
     },
     "execution_count": 118,
     "metadata": {},
     "output_type": "execute_result"
    },
    {
     "data": {
      "image/png": "[encoded data removed]",
      "text/plain": [
       "<Figure size 432x288 with 1 Axes>"
      ]
     },
     "metadata": {
      "needs_background": "light"
     },
     "output_type": "display_data"
    }
   ],
   "source": [
    "import matplotlib.pyplot as plt\n",
    "import numpy as np\n",
    "\n",
    "epsilons_overall_count = [.005, .01, .015, .02, .025] \n",
    "for xe, ye in zip(epsilons_overall_count, errors_list_overall_count):\n",
    "    plt.scatter([xe] * len(ye), ye)\n",
    "    plt.axline((0.0141, 0), (0.0141, 30))\n",
    "plt.title('Errors for Overall Count Query (proposed Epsilon = 0.0141)')\n",
    "plt.xlabel('epsilon')\n",
    "plt.ylabel('error (%)')"
   ]
  },
  {
   "cell_type": "code",
   "execution_count": 121,
   "id": "49bb4436",
   "metadata": {
    "scrolled": true
   },
   "outputs": [
    {
     "data": {
      "text/plain": [
       "Text(0, 0.5, 'seconds')"
      ]
     },
     "execution_count": 121,
     "metadata": {},
     "output_type": "execute_result"
    },
    {
     "data": {
      "image/png": "[encoded data removed]",
      "text/plain": [
       "<Figure size 432x288 with 1 Axes>"
      ]
     },
     "metadata": {
      "needs_background": "light"
     },
     "output_type": "display_data"
    }
   ],
   "source": [
    "for xe, ye in zip(epsilons_overall_count, times_list_overall_count ):\n",
    "    plt.scatter([xe] * len(ye), ye)\n",
    "plt.title('Run Time for Overall Count Query')\n",
    "plt.xlabel('epsilon')\n",
    "plt.ylabel('seconds')"
   ]
  },
  {
   "cell_type": "code",
   "execution_count": null,
   "id": "70344805",
   "metadata": {},
   "outputs": [],
   "source": [
    "errors_list, times_list = query_calc(epsilons = [.005, .01, .015, .02, .025] , query = \"SELECT count(*) FROM MySchema.AnimalShelter\" )"
   ]
  },
  {
   "cell_type": "code",
   "execution_count": 115,
   "id": "06de395c",
   "metadata": {},
   "outputs": [
    {
     "name": "stderr",
     "output_type": "stream",
     "text": [
      "C:\\Users\\arnav\\anaconda3-2\\lib\\site-packages\\snsql\\sql\\private_reader.py:141: UserWarning: The following columns are of type float: age_upon_outcome_(years), outcome_number, age_upon_intake_(years), time_in_shelter_days. \n",
      "summary statistics over floats will use Mechanism.laplace, which is not floating-point safe, \n",
      "This could lead to privacy leaks.\n",
      "  warnings.warn(\n",
      "C:\\Users\\arnav\\anaconda3-2\\lib\\site-packages\\snsql\\sql\\private_reader.py:141: UserWarning: The following columns are of type float: age_upon_outcome_(years), outcome_number, age_upon_intake_(years), time_in_shelter_days. \n",
      "summary statistics over floats will use Mechanism.laplace, which is not floating-point safe, \n",
      "This could lead to privacy leaks.\n",
      "  warnings.warn(\n",
      "C:\\Users\\arnav\\anaconda3-2\\lib\\site-packages\\snsql\\sql\\private_reader.py:141: UserWarning: The following columns are of type float: age_upon_outcome_(years), outcome_number, age_upon_intake_(years), time_in_shelter_days. \n",
      "summary statistics over floats will use Mechanism.laplace, which is not floating-point safe, \n",
      "This could lead to privacy leaks.\n",
      "  warnings.warn(\n",
      "C:\\Users\\arnav\\anaconda3-2\\lib\\site-packages\\snsql\\sql\\private_reader.py:141: UserWarning: The following columns are of type float: age_upon_outcome_(years), outcome_number, age_upon_intake_(years), time_in_shelter_days. \n",
      "summary statistics over floats will use Mechanism.laplace, which is not floating-point safe, \n",
      "This could lead to privacy leaks.\n",
      "  warnings.warn(\n",
      "C:\\Users\\arnav\\anaconda3-2\\lib\\site-packages\\snsql\\sql\\private_reader.py:141: UserWarning: The following columns are of type float: age_upon_outcome_(years), outcome_number, age_upon_intake_(years), time_in_shelter_days. \n",
      "summary statistics over floats will use Mechanism.laplace, which is not floating-point safe, \n",
      "This could lead to privacy leaks.\n",
      "  warnings.warn(\n"
     ]
    }
   ],
   "source": [
    "errors_list2, times_list2 = query_calc2(epsilons = [.01, .02, .03, .04, .05] , query = \"SELECT breed, count(*) FROM MySchema.AnimalShelter group by breed\")"
   ]
  },
  {
   "cell_type": "code",
   "execution_count": 124,
   "id": "d69953d9",
   "metadata": {},
   "outputs": [
    {
     "data": {
      "text/plain": [
       "13.617055643013563"
      ]
     },
     "execution_count": 124,
     "metadata": {},
     "output_type": "execute_result"
    }
   ],
   "source": [
    "query = \"select avg(time_in_shelter_days) from (select distinct * from new_df)\"\n",
    "df_query = sqldf(query)\n",
    "answer = df_query.iloc[0][0]\n",
    "answer"
   ]
  },
  {
   "cell_type": "code",
   "execution_count": 143,
   "id": "7e07854e",
   "metadata": {},
   "outputs": [
    {
     "name": "stderr",
     "output_type": "stream",
     "text": [
      "C:\\Users\\arnav\\anaconda3-2\\lib\\site-packages\\snsql\\sql\\private_reader.py:141: UserWarning: The following columns are of type float: age_upon_outcome_(years), outcome_number, age_upon_intake_(years), time_in_shelter_days. \n",
      "summary statistics over floats will use Mechanism.laplace, which is not floating-point safe, \n",
      "This could lead to privacy leaks.\n",
      "  warnings.warn(\n"
     ]
    },
    {
     "ename": "ValueError",
     "evalue": "Attempting to query an unbounded column",
     "output_type": "error",
     "traceback": [
      "\u001b[1;31m---------------------------------------------------------------------------\u001b[0m",
      "\u001b[1;31mValueError\u001b[0m                                Traceback (most recent call last)",
      "\u001b[1;32m~\\AppData\\Local\\Temp/ipykernel_232636/2904944641.py\u001b[0m in \u001b[0;36m<module>\u001b[1;34m\u001b[0m\n\u001b[1;32m----> 1\u001b[1;33m \u001b[0merrors_list3\u001b[0m\u001b[1;33m,\u001b[0m \u001b[0mtimes_list3\u001b[0m \u001b[1;33m=\u001b[0m \u001b[0mquery_calc2\u001b[0m\u001b[1;33m(\u001b[0m\u001b[0mepsilons\u001b[0m \u001b[1;33m=\u001b[0m \u001b[1;33m[\u001b[0m\u001b[1;36m0.1\u001b[0m\u001b[1;33m,\u001b[0m \u001b[1;36m0.2\u001b[0m\u001b[1;33m,\u001b[0m \u001b[1;36m0.3\u001b[0m\u001b[1;33m,\u001b[0m \u001b[1;36m0.4\u001b[0m\u001b[1;33m,\u001b[0m \u001b[1;36m0.5\u001b[0m\u001b[1;33m]\u001b[0m \u001b[1;33m,\u001b[0m \u001b[0mquery\u001b[0m \u001b[1;33m=\u001b[0m \u001b[1;34m\"SELECT avg(time_in_shelter_days) FROM MySchema.AnimalShelter\"\u001b[0m\u001b[1;33m)\u001b[0m\u001b[1;33m\u001b[0m\u001b[1;33m\u001b[0m\u001b[0m\n\u001b[0m",
      "\u001b[1;32m~\\AppData\\Local\\Temp/ipykernel_232636/262718082.py\u001b[0m in \u001b[0;36mquery_calc2\u001b[1;34m(epsilons, query)\u001b[0m\n\u001b[0;32m     21\u001b[0m \u001b[1;33m\u001b[0m\u001b[0m\n\u001b[0;32m     22\u001b[0m             \u001b[0mt0\u001b[0m \u001b[1;33m=\u001b[0m \u001b[0mtime\u001b[0m\u001b[1;33m.\u001b[0m\u001b[0mtime\u001b[0m\u001b[1;33m(\u001b[0m\u001b[1;33m)\u001b[0m\u001b[1;33m\u001b[0m\u001b[1;33m\u001b[0m\u001b[0m\n\u001b[1;32m---> 23\u001b[1;33m             \u001b[0mresult\u001b[0m \u001b[1;33m=\u001b[0m \u001b[0mreader\u001b[0m\u001b[1;33m.\u001b[0m\u001b[0mexecute\u001b[0m\u001b[1;33m(\u001b[0m\u001b[0mquery\u001b[0m\u001b[1;33m)\u001b[0m\u001b[1;33m\u001b[0m\u001b[1;33m\u001b[0m\u001b[0m\n\u001b[0m\u001b[0;32m     24\u001b[0m             \u001b[0mt1\u001b[0m \u001b[1;33m=\u001b[0m \u001b[0mtime\u001b[0m\u001b[1;33m.\u001b[0m\u001b[0mtime\u001b[0m\u001b[1;33m(\u001b[0m\u001b[1;33m)\u001b[0m\u001b[1;33m\u001b[0m\u001b[1;33m\u001b[0m\u001b[0m\n\u001b[0;32m     25\u001b[0m \u001b[1;33m\u001b[0m\u001b[0m\n",
      "\u001b[1;32m~\\anaconda3-2\\lib\\site-packages\\snsql\\sql\\private_reader.py\u001b[0m in \u001b[0;36mexecute\u001b[1;34m(self, query_string, accuracy, pre_aggregated, postprocess, *ignore)\u001b[0m\n\u001b[0;32m    491\u001b[0m         \"\"\"\n\u001b[0;32m    492\u001b[0m         \u001b[0mquery\u001b[0m \u001b[1;33m=\u001b[0m \u001b[0mself\u001b[0m\u001b[1;33m.\u001b[0m\u001b[0mparse_query_string\u001b[0m\u001b[1;33m(\u001b[0m\u001b[0mquery_string\u001b[0m\u001b[1;33m)\u001b[0m\u001b[1;33m\u001b[0m\u001b[1;33m\u001b[0m\u001b[0m\n\u001b[1;32m--> 493\u001b[1;33m         return self._execute_ast(\n\u001b[0m\u001b[0;32m    494\u001b[0m             \u001b[0mquery\u001b[0m\u001b[1;33m,\u001b[0m\u001b[1;33m\u001b[0m\u001b[1;33m\u001b[0m\u001b[0m\n\u001b[0;32m    495\u001b[0m             \u001b[0maccuracy\u001b[0m\u001b[1;33m=\u001b[0m\u001b[0maccuracy\u001b[0m\u001b[1;33m,\u001b[0m\u001b[1;33m\u001b[0m\u001b[1;33m\u001b[0m\u001b[0m\n",
      "\u001b[1;32m~\\anaconda3-2\\lib\\site-packages\\snsql\\sql\\private_reader.py\u001b[0m in \u001b[0;36m_execute_ast\u001b[1;34m(self, query, accuracy, pre_aggregated, postprocess, *ignore)\u001b[0m\n\u001b[0;32m    523\u001b[0m         \u001b[0mcheck_sens\u001b[0m \u001b[1;33m=\u001b[0m \u001b[1;33m[\u001b[0m\u001b[0mm\u001b[0m \u001b[1;32mfor\u001b[0m \u001b[0mm\u001b[0m \u001b[1;32min\u001b[0m \u001b[0mmechs\u001b[0m \u001b[1;32mif\u001b[0m \u001b[0mm\u001b[0m\u001b[1;33m]\u001b[0m\u001b[1;33m\u001b[0m\u001b[1;33m\u001b[0m\u001b[0m\n\u001b[0;32m    524\u001b[0m         \u001b[1;32mif\u001b[0m \u001b[0many\u001b[0m\u001b[1;33m(\u001b[0m\u001b[1;33m[\u001b[0m\u001b[0mm\u001b[0m\u001b[1;33m.\u001b[0m\u001b[0msensitivity\u001b[0m \u001b[1;32mis\u001b[0m \u001b[0mnp\u001b[0m\u001b[1;33m.\u001b[0m\u001b[0minf\u001b[0m \u001b[1;32mfor\u001b[0m \u001b[0mm\u001b[0m \u001b[1;32min\u001b[0m \u001b[0mcheck_sens\u001b[0m\u001b[1;33m]\u001b[0m\u001b[1;33m)\u001b[0m\u001b[1;33m:\u001b[0m\u001b[1;33m\u001b[0m\u001b[1;33m\u001b[0m\u001b[0m\n\u001b[1;32m--> 525\u001b[1;33m             \u001b[1;32mraise\u001b[0m \u001b[0mValueError\u001b[0m\u001b[1;33m(\u001b[0m\u001b[1;34mf\"Attempting to query an unbounded column\"\u001b[0m\u001b[1;33m)\u001b[0m\u001b[1;33m\u001b[0m\u001b[1;33m\u001b[0m\u001b[0m\n\u001b[0m\u001b[0;32m    526\u001b[0m \u001b[1;33m\u001b[0m\u001b[0m\n\u001b[0;32m    527\u001b[0m         \u001b[0mkc_pos\u001b[0m \u001b[1;33m=\u001b[0m \u001b[0mself\u001b[0m\u001b[1;33m.\u001b[0m\u001b[0m_get_keycount_position\u001b[0m\u001b[1;33m(\u001b[0m\u001b[0msubquery\u001b[0m\u001b[1;33m)\u001b[0m\u001b[1;33m\u001b[0m\u001b[1;33m\u001b[0m\u001b[0m\n",
      "\u001b[1;31mValueError\u001b[0m: Attempting to query an unbounded column"
     ]
    }
   ],
   "source": [
    "errors_list3, times_list3 = query_calc2(epsilons = [0.1, 0.2, 0.3, 0.4, 0.5] , query = \"SELECT avg(time_in_shelter_days) FROM MySchema.AnimalShelter\")"
   ]
  },
  {
   "cell_type": "code",
   "execution_count": 122,
   "id": "f238374d",
   "metadata": {},
   "outputs": [
    {
     "data": {
      "text/plain": [
       "Text(0, 0.5, 'error (%)')"
      ]
     },
     "execution_count": 122,
     "metadata": {},
     "output_type": "execute_result"
    },
    {
     "data": {
      "image/png": "[encoded data removed]",
      "text/plain": [
       "<Figure size 432x288 with 1 Axes>"
      ]
     },
     "metadata": {
      "needs_background": "light"
     },
     "output_type": "display_data"
    }
   ],
   "source": [
    "epsilons_overall_count = [.1, .2, .3, .4, .5] \n",
    "for xe, ye in zip(epsilons_overall_count, errors_list2):\n",
    "    plt.scatter([xe] * len(ye), ye)\n",
    "    plt.axline((0.2828, 0), (0.2828, 30))\n",
    "plt.title('Errors for Breed Count Query (proposed Epsilon = 0.2828)')\n",
    "plt.xlabel('epsilon')\n",
    "plt.ylabel('error (%)')"
   ]
  },
  {
   "cell_type": "code",
   "execution_count": 120,
   "id": "795f7f75",
   "metadata": {},
   "outputs": [
    {
     "data": {
      "text/plain": [
       "Text(0, 0.5, 'seconds')"
      ]
     },
     "execution_count": 120,
     "metadata": {},
     "output_type": "execute_result"
    },
    {
     "data": {
      "image/png": "[encoded data removed]",
      "text/plain": [
       "<Figure size 432x288 with 1 Axes>"
      ]
     },
     "metadata": {
      "needs_background": "light"
     },
     "output_type": "display_data"
    }
   ],
   "source": [
    "for xe, ye in zip(epsilons_overall_count, times_list2 ):\n",
    "    plt.scatter([xe] * len(ye), ye)\n",
    "plt.title('Run Time for Breed Count Query')\n",
    "plt.xlabel('epsilon')\n",
    "plt.ylabel('seconds')"
   ]
  }
 ],
 "metadata": {
  "kernelspec": {
   "display_name": "Python 3 (ipykernel)",
   "language": "python",
   "name": "python3"
  },
  "language_info": {
   "codemirror_mode": {
    "name": "ipython",
    "version": 3
   },
   "file_extension": ".py",
   "mimetype": "text/x-python",
   "name": "python",
   "nbconvert_exporter": "python",
   "pygments_lexer": "ipython3",
   "version": "3.9.7"
  }
 },
 "nbformat": 4,
 "nbformat_minor": 5
}
