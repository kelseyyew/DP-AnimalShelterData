{
 "cells": [
  {
   "cell_type": "code",
   "execution_count": 19,
   "id": "49234630",
   "metadata": {},
   "outputs": [],
   "source": [
    "import snsql\n",
    "from snsql import Privacy\n",
    "import pandas as pd\n",
    "from pandasql import sqldf\n",
    "import time\n",
    "import matplotlib.pyplot as plt\n"
   ]
  },
  {
   "cell_type": "code",
   "execution_count": 2,
   "id": "36243fad",
   "metadata": {},
   "outputs": [],
   "source": [
    "csv_path = 'aac_intakes_outcomes.csv'\n",
    "meta_path = 'aac_intakes_outcomes.yaml'\n",
    "dat = pd.read_csv(csv_path)\n",
    "new_df = dat[['intake_year',\n",
    "              'age_upon_outcome', \n",
    "              'animal_id_outcome',\n",
    "              'outcome_subtype',\n",
    "              'outcome_type',\n",
    "              'sex_upon_outcome',\n",
    "              'age_upon_outcome_(days)',\n",
    "              'age_upon_outcome_(years)',\n",
    "              'outcome_datetime',\n",
    "              'outcome_weekday',\n",
    "              'outcome_number',\n",
    "              'age_upon_intake',\n",
    "              'animal_id_intake',\n",
    "              'animal_type',\n",
    "              'breed',\n",
    "              'color',\n",
    "              'found_location',\n",
    "              'intake_condition',\n",
    "              'intake_type',\n",
    "              'sex_upon_intake',\n",
    "              'age_upon_intake_(days)',\n",
    "              'age_upon_intake_(years)',\n",
    "              'intake_datetime',\n",
    "              'intake_weekday',\n",
    "              'time_in_shelter_days',\n",
    "              'intake_month'\n",
    "             ]]\n",
    "new_df = new_df[new_df['animal_type'] == 'Dog']\n",
    "new_df = new_df[new_df['intake_year'] == 2017]\n",
    "new_df = new_df.drop(['animal_type', 'intake_year'], axis=1)"
   ]
  },
  {
   "cell_type": "code",
   "execution_count": 3,
   "id": "fcf7142e",
   "metadata": {},
   "outputs": [
    {
     "data": {
      "text/html": [
       "<div>\n",
       "<style scoped>\n",
       "    .dataframe tbody tr th:only-of-type {\n",
       "        vertical-align: middle;\n",
       "    }\n",
       "\n",
       "    .dataframe tbody tr th {\n",
       "        vertical-align: top;\n",
       "    }\n",
       "\n",
       "    .dataframe thead th {\n",
       "        text-align: right;\n",
       "    }\n",
       "</style>\n",
       "<table border=\"1\" class=\"dataframe\">\n",
       "  <thead>\n",
       "    <tr style=\"text-align: right;\">\n",
       "      <th></th>\n",
       "      <th>age_upon_outcome</th>\n",
       "      <th>animal_id_outcome</th>\n",
       "      <th>outcome_subtype</th>\n",
       "      <th>outcome_type</th>\n",
       "      <th>sex_upon_outcome</th>\n",
       "      <th>age_upon_outcome_(days)</th>\n",
       "      <th>age_upon_outcome_(years)</th>\n",
       "      <th>outcome_datetime</th>\n",
       "      <th>outcome_weekday</th>\n",
       "      <th>outcome_number</th>\n",
       "      <th>...</th>\n",
       "      <th>found_location</th>\n",
       "      <th>intake_condition</th>\n",
       "      <th>intake_type</th>\n",
       "      <th>sex_upon_intake</th>\n",
       "      <th>age_upon_intake_(days)</th>\n",
       "      <th>age_upon_intake_(years)</th>\n",
       "      <th>intake_datetime</th>\n",
       "      <th>intake_weekday</th>\n",
       "      <th>time_in_shelter_days</th>\n",
       "      <th>intake_month</th>\n",
       "    </tr>\n",
       "  </thead>\n",
       "  <tbody>\n",
       "    <tr>\n",
       "      <th>0</th>\n",
       "      <td>10 years</td>\n",
       "      <td>A006100</td>\n",
       "      <td>NaN</td>\n",
       "      <td>Return to Owner</td>\n",
       "      <td>Neutered Male</td>\n",
       "      <td>3650</td>\n",
       "      <td>10.000000</td>\n",
       "      <td>2017-12-07 14:07:00</td>\n",
       "      <td>Thursday</td>\n",
       "      <td>1.0</td>\n",
       "      <td>...</td>\n",
       "      <td>Colony Creek And Hunters Trace in Austin (TX)</td>\n",
       "      <td>Normal</td>\n",
       "      <td>Stray</td>\n",
       "      <td>Neutered Male</td>\n",
       "      <td>3650</td>\n",
       "      <td>10.000000</td>\n",
       "      <td>2017-12-07 00:00:00</td>\n",
       "      <td>Thursday</td>\n",
       "      <td>0.588194</td>\n",
       "      <td>12</td>\n",
       "    </tr>\n",
       "    <tr>\n",
       "      <th>36</th>\n",
       "      <td>18 years</td>\n",
       "      <td>A251402</td>\n",
       "      <td>NaN</td>\n",
       "      <td>Return to Owner</td>\n",
       "      <td>Spayed Female</td>\n",
       "      <td>6570</td>\n",
       "      <td>18.000000</td>\n",
       "      <td>2017-10-23 11:32:00</td>\n",
       "      <td>Monday</td>\n",
       "      <td>1.0</td>\n",
       "      <td>...</td>\n",
       "      <td>2905 French Place in Austin (TX)</td>\n",
       "      <td>Normal</td>\n",
       "      <td>Stray</td>\n",
       "      <td>Spayed Female</td>\n",
       "      <td>6570</td>\n",
       "      <td>18.000000</td>\n",
       "      <td>2017-10-22 18:41:00</td>\n",
       "      <td>Sunday</td>\n",
       "      <td>0.702083</td>\n",
       "      <td>10</td>\n",
       "    </tr>\n",
       "    <tr>\n",
       "      <th>58</th>\n",
       "      <td>17 years</td>\n",
       "      <td>A285685</td>\n",
       "      <td>NaN</td>\n",
       "      <td>Return to Owner</td>\n",
       "      <td>Neutered Male</td>\n",
       "      <td>6205</td>\n",
       "      <td>17.000000</td>\n",
       "      <td>2017-04-13 11:56:00</td>\n",
       "      <td>Thursday</td>\n",
       "      <td>1.0</td>\n",
       "      <td>...</td>\n",
       "      <td>1704 Nelms Dr #1925 in Austin (TX)</td>\n",
       "      <td>Normal</td>\n",
       "      <td>Stray</td>\n",
       "      <td>Neutered Male</td>\n",
       "      <td>6205</td>\n",
       "      <td>17.000000</td>\n",
       "      <td>2017-04-12 16:04:00</td>\n",
       "      <td>Wednesday</td>\n",
       "      <td>0.827778</td>\n",
       "      <td>4</td>\n",
       "    </tr>\n",
       "    <tr>\n",
       "      <th>63</th>\n",
       "      <td>15 years</td>\n",
       "      <td>A291843</td>\n",
       "      <td>NaN</td>\n",
       "      <td>Return to Owner</td>\n",
       "      <td>Neutered Male</td>\n",
       "      <td>5475</td>\n",
       "      <td>15.000000</td>\n",
       "      <td>2017-12-12 13:31:00</td>\n",
       "      <td>Tuesday</td>\n",
       "      <td>1.0</td>\n",
       "      <td>...</td>\n",
       "      <td>Austin (TX)</td>\n",
       "      <td>Normal</td>\n",
       "      <td>Public Assist</td>\n",
       "      <td>Neutered Male</td>\n",
       "      <td>5475</td>\n",
       "      <td>15.000000</td>\n",
       "      <td>2017-12-09 02:11:00</td>\n",
       "      <td>Saturday</td>\n",
       "      <td>3.472222</td>\n",
       "      <td>12</td>\n",
       "    </tr>\n",
       "    <tr>\n",
       "      <th>71</th>\n",
       "      <td>15 years</td>\n",
       "      <td>A297699</td>\n",
       "      <td>NaN</td>\n",
       "      <td>Return to Owner</td>\n",
       "      <td>Neutered Male</td>\n",
       "      <td>5475</td>\n",
       "      <td>15.000000</td>\n",
       "      <td>2017-11-20 15:58:00</td>\n",
       "      <td>Monday</td>\n",
       "      <td>1.0</td>\n",
       "      <td>...</td>\n",
       "      <td>Westgate in Austin (TX)</td>\n",
       "      <td>Aged</td>\n",
       "      <td>Stray</td>\n",
       "      <td>Neutered Male</td>\n",
       "      <td>5475</td>\n",
       "      <td>15.000000</td>\n",
       "      <td>2017-11-20 08:11:00</td>\n",
       "      <td>Monday</td>\n",
       "      <td>0.324306</td>\n",
       "      <td>11</td>\n",
       "    </tr>\n",
       "    <tr>\n",
       "      <th>...</th>\n",
       "      <td>...</td>\n",
       "      <td>...</td>\n",
       "      <td>...</td>\n",
       "      <td>...</td>\n",
       "      <td>...</td>\n",
       "      <td>...</td>\n",
       "      <td>...</td>\n",
       "      <td>...</td>\n",
       "      <td>...</td>\n",
       "      <td>...</td>\n",
       "      <td>...</td>\n",
       "      <td>...</td>\n",
       "      <td>...</td>\n",
       "      <td>...</td>\n",
       "      <td>...</td>\n",
       "      <td>...</td>\n",
       "      <td>...</td>\n",
       "      <td>...</td>\n",
       "      <td>...</td>\n",
       "      <td>...</td>\n",
       "      <td>...</td>\n",
       "    </tr>\n",
       "    <tr>\n",
       "      <th>77137</th>\n",
       "      <td>1 year</td>\n",
       "      <td>A764534</td>\n",
       "      <td>NaN</td>\n",
       "      <td>Adoption</td>\n",
       "      <td>Spayed Female</td>\n",
       "      <td>365</td>\n",
       "      <td>1.000000</td>\n",
       "      <td>2018-01-05 16:55:00</td>\n",
       "      <td>Friday</td>\n",
       "      <td>1.0</td>\n",
       "      <td>...</td>\n",
       "      <td>Walnut Drive East And Georgian Drive in Austin...</td>\n",
       "      <td>Normal</td>\n",
       "      <td>Stray</td>\n",
       "      <td>Intact Female</td>\n",
       "      <td>365</td>\n",
       "      <td>1.000000</td>\n",
       "      <td>2017-12-31 16:29:00</td>\n",
       "      <td>Sunday</td>\n",
       "      <td>5.018056</td>\n",
       "      <td>12</td>\n",
       "    </tr>\n",
       "    <tr>\n",
       "      <th>77138</th>\n",
       "      <td>1 year</td>\n",
       "      <td>A764535</td>\n",
       "      <td>Partner</td>\n",
       "      <td>Transfer</td>\n",
       "      <td>Intact Male</td>\n",
       "      <td>365</td>\n",
       "      <td>1.000000</td>\n",
       "      <td>2018-01-04 15:10:00</td>\n",
       "      <td>Thursday</td>\n",
       "      <td>1.0</td>\n",
       "      <td>...</td>\n",
       "      <td>124 West Anderson Lane in Austin (TX)</td>\n",
       "      <td>Normal</td>\n",
       "      <td>Stray</td>\n",
       "      <td>Intact Male</td>\n",
       "      <td>365</td>\n",
       "      <td>1.000000</td>\n",
       "      <td>2017-12-31 16:54:00</td>\n",
       "      <td>Sunday</td>\n",
       "      <td>3.927778</td>\n",
       "      <td>12</td>\n",
       "    </tr>\n",
       "    <tr>\n",
       "      <th>77139</th>\n",
       "      <td>2 months</td>\n",
       "      <td>A764536</td>\n",
       "      <td>Foster</td>\n",
       "      <td>Adoption</td>\n",
       "      <td>Spayed Female</td>\n",
       "      <td>60</td>\n",
       "      <td>0.164384</td>\n",
       "      <td>2018-01-25 17:34:00</td>\n",
       "      <td>Thursday</td>\n",
       "      <td>1.0</td>\n",
       "      <td>...</td>\n",
       "      <td>7Th Street And Chicon in Austin (TX)</td>\n",
       "      <td>Normal</td>\n",
       "      <td>Stray</td>\n",
       "      <td>Intact Female</td>\n",
       "      <td>30</td>\n",
       "      <td>0.082192</td>\n",
       "      <td>2017-12-31 17:05:00</td>\n",
       "      <td>Sunday</td>\n",
       "      <td>25.020139</td>\n",
       "      <td>12</td>\n",
       "    </tr>\n",
       "    <tr>\n",
       "      <th>77140</th>\n",
       "      <td>3 months</td>\n",
       "      <td>A764537</td>\n",
       "      <td>Foster</td>\n",
       "      <td>Adoption</td>\n",
       "      <td>Intact Male</td>\n",
       "      <td>90</td>\n",
       "      <td>0.246575</td>\n",
       "      <td>2018-02-13 16:13:00</td>\n",
       "      <td>Tuesday</td>\n",
       "      <td>1.0</td>\n",
       "      <td>...</td>\n",
       "      <td>924 E 51St in Austin (TX)</td>\n",
       "      <td>Injured</td>\n",
       "      <td>Stray</td>\n",
       "      <td>Intact Male</td>\n",
       "      <td>30</td>\n",
       "      <td>0.082192</td>\n",
       "      <td>2017-12-31 07:26:00</td>\n",
       "      <td>Sunday</td>\n",
       "      <td>44.365972</td>\n",
       "      <td>12</td>\n",
       "    </tr>\n",
       "    <tr>\n",
       "      <th>77584</th>\n",
       "      <td>2 years</td>\n",
       "      <td>A765283</td>\n",
       "      <td>NaN</td>\n",
       "      <td>Adoption</td>\n",
       "      <td>Intact Male</td>\n",
       "      <td>730</td>\n",
       "      <td>2.000000</td>\n",
       "      <td>2017-11-05 17:05:00</td>\n",
       "      <td>Sunday</td>\n",
       "      <td>2.0</td>\n",
       "      <td>...</td>\n",
       "      <td>Crazyhorse Pass And Whitebead Trail in Travis ...</td>\n",
       "      <td>Sick</td>\n",
       "      <td>Stray</td>\n",
       "      <td>Intact Male</td>\n",
       "      <td>730</td>\n",
       "      <td>2.000000</td>\n",
       "      <td>2017-10-31 12:12:00</td>\n",
       "      <td>Tuesday</td>\n",
       "      <td>5.203472</td>\n",
       "      <td>10</td>\n",
       "    </tr>\n",
       "  </tbody>\n",
       "</table>\n",
       "<p>9851 rows × 24 columns</p>\n",
       "</div>"
      ],
      "text/plain": [
       "      age_upon_outcome animal_id_outcome outcome_subtype     outcome_type  \\\n",
       "0             10 years           A006100             NaN  Return to Owner   \n",
       "36            18 years           A251402             NaN  Return to Owner   \n",
       "58            17 years           A285685             NaN  Return to Owner   \n",
       "63            15 years           A291843             NaN  Return to Owner   \n",
       "71            15 years           A297699             NaN  Return to Owner   \n",
       "...                ...               ...             ...              ...   \n",
       "77137           1 year           A764534             NaN         Adoption   \n",
       "77138           1 year           A764535         Partner         Transfer   \n",
       "77139         2 months           A764536          Foster         Adoption   \n",
       "77140         3 months           A764537          Foster         Adoption   \n",
       "77584          2 years           A765283             NaN         Adoption   \n",
       "\n",
       "      sex_upon_outcome  age_upon_outcome_(days)  age_upon_outcome_(years)  \\\n",
       "0        Neutered Male                     3650                 10.000000   \n",
       "36       Spayed Female                     6570                 18.000000   \n",
       "58       Neutered Male                     6205                 17.000000   \n",
       "63       Neutered Male                     5475                 15.000000   \n",
       "71       Neutered Male                     5475                 15.000000   \n",
       "...                ...                      ...                       ...   \n",
       "77137    Spayed Female                      365                  1.000000   \n",
       "77138      Intact Male                      365                  1.000000   \n",
       "77139    Spayed Female                       60                  0.164384   \n",
       "77140      Intact Male                       90                  0.246575   \n",
       "77584      Intact Male                      730                  2.000000   \n",
       "\n",
       "          outcome_datetime outcome_weekday  outcome_number  ...  \\\n",
       "0      2017-12-07 14:07:00        Thursday             1.0  ...   \n",
       "36     2017-10-23 11:32:00          Monday             1.0  ...   \n",
       "58     2017-04-13 11:56:00        Thursday             1.0  ...   \n",
       "63     2017-12-12 13:31:00         Tuesday             1.0  ...   \n",
       "71     2017-11-20 15:58:00          Monday             1.0  ...   \n",
       "...                    ...             ...             ...  ...   \n",
       "77137  2018-01-05 16:55:00          Friday             1.0  ...   \n",
       "77138  2018-01-04 15:10:00        Thursday             1.0  ...   \n",
       "77139  2018-01-25 17:34:00        Thursday             1.0  ...   \n",
       "77140  2018-02-13 16:13:00         Tuesday             1.0  ...   \n",
       "77584  2017-11-05 17:05:00          Sunday             2.0  ...   \n",
       "\n",
       "                                          found_location intake_condition  \\\n",
       "0          Colony Creek And Hunters Trace in Austin (TX)           Normal   \n",
       "36                      2905 French Place in Austin (TX)           Normal   \n",
       "58                    1704 Nelms Dr #1925 in Austin (TX)           Normal   \n",
       "63                                           Austin (TX)           Normal   \n",
       "71                               Westgate in Austin (TX)             Aged   \n",
       "...                                                  ...              ...   \n",
       "77137  Walnut Drive East And Georgian Drive in Austin...           Normal   \n",
       "77138              124 West Anderson Lane in Austin (TX)           Normal   \n",
       "77139               7Th Street And Chicon in Austin (TX)           Normal   \n",
       "77140                          924 E 51St in Austin (TX)          Injured   \n",
       "77584  Crazyhorse Pass And Whitebead Trail in Travis ...             Sick   \n",
       "\n",
       "         intake_type sex_upon_intake age_upon_intake_(days)  \\\n",
       "0              Stray   Neutered Male                   3650   \n",
       "36             Stray   Spayed Female                   6570   \n",
       "58             Stray   Neutered Male                   6205   \n",
       "63     Public Assist   Neutered Male                   5475   \n",
       "71             Stray   Neutered Male                   5475   \n",
       "...              ...             ...                    ...   \n",
       "77137          Stray   Intact Female                    365   \n",
       "77138          Stray     Intact Male                    365   \n",
       "77139          Stray   Intact Female                     30   \n",
       "77140          Stray     Intact Male                     30   \n",
       "77584          Stray     Intact Male                    730   \n",
       "\n",
       "      age_upon_intake_(years)      intake_datetime intake_weekday  \\\n",
       "0                   10.000000  2017-12-07 00:00:00       Thursday   \n",
       "36                  18.000000  2017-10-22 18:41:00         Sunday   \n",
       "58                  17.000000  2017-04-12 16:04:00      Wednesday   \n",
       "63                  15.000000  2017-12-09 02:11:00       Saturday   \n",
       "71                  15.000000  2017-11-20 08:11:00         Monday   \n",
       "...                       ...                  ...            ...   \n",
       "77137                1.000000  2017-12-31 16:29:00         Sunday   \n",
       "77138                1.000000  2017-12-31 16:54:00         Sunday   \n",
       "77139                0.082192  2017-12-31 17:05:00         Sunday   \n",
       "77140                0.082192  2017-12-31 07:26:00         Sunday   \n",
       "77584                2.000000  2017-10-31 12:12:00        Tuesday   \n",
       "\n",
       "       time_in_shelter_days  intake_month  \n",
       "0                  0.588194            12  \n",
       "36                 0.702083            10  \n",
       "58                 0.827778             4  \n",
       "63                 3.472222            12  \n",
       "71                 0.324306            11  \n",
       "...                     ...           ...  \n",
       "77137              5.018056            12  \n",
       "77138              3.927778            12  \n",
       "77139             25.020139            12  \n",
       "77140             44.365972            12  \n",
       "77584              5.203472            10  \n",
       "\n",
       "[9851 rows x 24 columns]"
      ]
     },
     "execution_count": 3,
     "metadata": {},
     "output_type": "execute_result"
    }
   ],
   "source": [
    "new_df"
   ]
  },
  {
   "cell_type": "code",
   "execution_count": null,
   "id": "96011c6b",
   "metadata": {},
   "outputs": [],
   "source": []
  },
  {
   "cell_type": "code",
   "execution_count": null,
   "id": "a3046211",
   "metadata": {},
   "outputs": [],
   "source": []
  },
  {
   "cell_type": "code",
   "execution_count": 118,
   "id": "3a337321",
   "metadata": {},
   "outputs": [],
   "source": [
    "def query_calc(epsilons, query, truth_val ):\n",
    "\n",
    "    errors_list = []\n",
    "    times_list = []\n",
    "    values_list = []\n",
    "\n",
    "\n",
    "    epsilons = epsilons\n",
    "    for eps in epsilons:\n",
    "        errors = []\n",
    "        times = []\n",
    "        values = []\n",
    "\n",
    "\n",
    "        privacy = Privacy(epsilon=eps, delta=0)\n",
    "        meta_path = 'YAMLDataPrivacy.yaml'\n",
    "        reader = snsql.from_df(new_df, privacy=privacy,\n",
    "        metadata=meta_path)\n",
    "\n",
    "        for i in range(10):\n",
    "\n",
    "            t0 = time.time()\n",
    "            result = reader.execute(query)\n",
    "            t1 = time.time()\n",
    "            result = result[1][0]\n",
    "            \n",
    "\n",
    "            values.append(result)\n",
    "            times.append(t1-t0)\n",
    "            errors.append(100 * (result - truth_val) / truth_val)\n",
    "\n",
    "        errors_list.append(errors)\n",
    "        times_list.append(times)\n",
    "        values_list.append(values)\n",
    "\n",
    "\n",
    "    return errors_list, times_list"
   ]
  },
  {
   "cell_type": "code",
   "execution_count": 114,
   "id": "f4aed539",
   "metadata": {},
   "outputs": [],
   "source": [
    "def query_calc2(epsilons, query):\n",
    "\n",
    "    errors_list = []\n",
    "    times_list = []\n",
    "    values_list = []\n",
    "\n",
    "\n",
    "    epsilons = epsilons\n",
    "    for eps in epsilons:\n",
    "        errors = []\n",
    "        times = []\n",
    "        values = []\n",
    "\n",
    "\n",
    "        privacy = Privacy(epsilon=eps, delta=0)\n",
    "        meta_path = 'YAMLDataPrivacy.yaml'\n",
    "        reader = snsql.from_df(new_df, privacy=privacy,\n",
    "        metadata=meta_path)\n",
    "\n",
    "        for i in range(10):\n",
    "\n",
    "            t0 = time.time()\n",
    "            result = reader.execute(query)\n",
    "            t1 = time.time()\n",
    "\n",
    "            result2 = result[1:]\n",
    "            df2 = df_query.values.tolist()\n",
    "            \n",
    "            breed_error_list = []\n",
    "\n",
    "            for i in range(len(result2)):\n",
    "                breed_error_list.append(100 * abs((result2[i][1] - df2[i][1]) / df2[i][1]))\n",
    "    \n",
    "            avg_error = sum(breed_error_list)/len(breed_error_list)\n",
    "            avg_error\n",
    "\n",
    "            \n",
    "            times.append(t1-t0)\n",
    "            errors.append(avg_error)\n",
    "\n",
    "        errors_list.append(errors)\n",
    "        times_list.append(times)\n",
    "\n",
    "\n",
    "    return errors_list, times_list"
   ]
  },
  {
   "cell_type": "code",
   "execution_count": null,
   "id": "09a3ae39",
   "metadata": {},
   "outputs": [],
   "source": []
  },
  {
   "cell_type": "code",
   "execution_count": 11,
   "id": "1116bf97",
   "metadata": {},
   "outputs": [],
   "source": [
    "# count all"
   ]
  },
  {
   "cell_type": "code",
   "execution_count": 119,
   "id": "e52540c2",
   "metadata": {},
   "outputs": [
    {
     "data": {
      "text/plain": [
       "9846"
      ]
     },
     "execution_count": 119,
     "metadata": {},
     "output_type": "execute_result"
    }
   ],
   "source": [
    "query = \"select count(*) from (select distinct * from new_df)\"\n",
    "df_query = sqldf(query)\n",
    "answer = df_query.iloc[0][0]\n",
    "answer"
   ]
  },
  {
   "cell_type": "code",
   "execution_count": 120,
   "id": "fa6d21dd",
   "metadata": {},
   "outputs": [
    {
     "name": "stderr",
     "output_type": "stream",
     "text": [
      "/Users/kelsey/.pyenv/versions/3.10.8/lib/python3.10/site-packages/snsql/sql/private_reader.py:141: UserWarning: The following columns are of type float: age_upon_outcome_(years), outcome_number, age_upon_intake_(years), time_in_shelter_days. \n",
      "summary statistics over floats will use Mechanism.laplace, which is not floating-point safe, \n",
      "This could lead to privacy leaks.\n",
      "  warnings.warn(\n"
     ]
    },
    {
     "data": {
      "text/plain": [
       "[['???'], [10014]]"
      ]
     },
     "execution_count": 120,
     "metadata": {},
     "output_type": "execute_result"
    }
   ],
   "source": [
    "#proposed epsilon result\n",
    "privacy = Privacy(epsilon=.0141, delta=0)\n",
    "meta_path = 'YAMLDataPrivacy.yaml'\n",
    "reader = snsql.from_df(new_df, privacy=privacy,\n",
    "metadata=meta_path)\n",
    "result = reader.execute(\"SELECT count(*) FROM MySchema.AnimalShelter\")\n",
    "result"
   ]
  },
  {
   "cell_type": "code",
   "execution_count": 121,
   "id": "ec0023dc",
   "metadata": {},
   "outputs": [
    {
     "name": "stderr",
     "output_type": "stream",
     "text": [
      "/Users/kelsey/.pyenv/versions/3.10.8/lib/python3.10/site-packages/snsql/sql/private_reader.py:141: UserWarning: The following columns are of type float: age_upon_outcome_(years), outcome_number, age_upon_intake_(years), time_in_shelter_days. \n",
      "summary statistics over floats will use Mechanism.laplace, which is not floating-point safe, \n",
      "This could lead to privacy leaks.\n",
      "  warnings.warn(\n",
      "/Users/kelsey/.pyenv/versions/3.10.8/lib/python3.10/site-packages/snsql/sql/private_reader.py:141: UserWarning: The following columns are of type float: age_upon_outcome_(years), outcome_number, age_upon_intake_(years), time_in_shelter_days. \n",
      "summary statistics over floats will use Mechanism.laplace, which is not floating-point safe, \n",
      "This could lead to privacy leaks.\n",
      "  warnings.warn(\n",
      "/Users/kelsey/.pyenv/versions/3.10.8/lib/python3.10/site-packages/snsql/sql/private_reader.py:141: UserWarning: The following columns are of type float: age_upon_outcome_(years), outcome_number, age_upon_intake_(years), time_in_shelter_days. \n",
      "summary statistics over floats will use Mechanism.laplace, which is not floating-point safe, \n",
      "This could lead to privacy leaks.\n",
      "  warnings.warn(\n",
      "/Users/kelsey/.pyenv/versions/3.10.8/lib/python3.10/site-packages/snsql/sql/private_reader.py:141: UserWarning: The following columns are of type float: age_upon_outcome_(years), outcome_number, age_upon_intake_(years), time_in_shelter_days. \n",
      "summary statistics over floats will use Mechanism.laplace, which is not floating-point safe, \n",
      "This could lead to privacy leaks.\n",
      "  warnings.warn(\n",
      "/Users/kelsey/.pyenv/versions/3.10.8/lib/python3.10/site-packages/snsql/sql/private_reader.py:141: UserWarning: The following columns are of type float: age_upon_outcome_(years), outcome_number, age_upon_intake_(years), time_in_shelter_days. \n",
      "summary statistics over floats will use Mechanism.laplace, which is not floating-point safe, \n",
      "This could lead to privacy leaks.\n",
      "  warnings.warn(\n"
     ]
    }
   ],
   "source": [
    "errors_list, times_list = query_calc(epsilons = [.005, .01, .015, .02, .025] , query = \"SELECT count(*) FROM MySchema.AnimalShelter\", truth_val=answer )"
   ]
  },
  {
   "cell_type": "code",
   "execution_count": 122,
   "id": "c12954f5",
   "metadata": {},
   "outputs": [
    {
     "data": {
      "text/plain": [
       "Text(0, 0.5, 'error (%)')"
      ]
     },
     "execution_count": 122,
     "metadata": {},
     "output_type": "execute_result"
    },
    {
     "data": {
      "image/png": "[encoded data removed]",
      "text/plain": [
       "<Figure size 640x480 with 1 Axes>"
      ]
     },
     "metadata": {},
     "output_type": "display_data"
    }
   ],
   "source": [
    "epsilons_1 = [.005, .01, .015, .02, .025] \n",
    "for xe, ye in zip(epsilons_1, errors_list):\n",
    "    plt.scatter([xe] * len(ye), ye)\n",
    "    plt.axline((0.0141, 0), (0.0141, 30))\n",
    "plt.title('Errors for Overall Count Query (proposed Epsilon = 0.0141)')\n",
    "plt.xlabel('epsilon')\n",
    "plt.ylabel('error (%)')"
   ]
  },
  {
   "cell_type": "code",
   "execution_count": 123,
   "id": "d58202f7",
   "metadata": {},
   "outputs": [
    {
     "data": {
      "text/plain": [
       "Text(0, 0.5, 'seconds')"
      ]
     },
     "execution_count": 123,
     "metadata": {},
     "output_type": "execute_result"
    },
    {
     "data": {
      "image/png": "[encoded data removed]",
      "text/plain": [
       "<Figure size 640x480 with 1 Axes>"
      ]
     },
     "metadata": {},
     "output_type": "display_data"
    }
   ],
   "source": [
    "for xe, ye in zip(epsilons_1, times_list ):\n",
    "    plt.scatter([xe] * len(ye), ye)\n",
    "plt.title('Run Time for Overall Count Query')\n",
    "plt.xlabel('epsilon')\n",
    "plt.ylabel('seconds')"
   ]
  },
  {
   "cell_type": "code",
   "execution_count": null,
   "id": "08830f7b",
   "metadata": {},
   "outputs": [],
   "source": []
  },
  {
   "cell_type": "code",
   "execution_count": null,
   "id": "81b967bf",
   "metadata": {},
   "outputs": [],
   "source": []
  },
  {
   "cell_type": "code",
   "execution_count": null,
   "id": "6847be2b",
   "metadata": {},
   "outputs": [],
   "source": []
  },
  {
   "cell_type": "code",
   "execution_count": 22,
   "id": "deac2bce",
   "metadata": {},
   "outputs": [],
   "source": [
    "#breed count"
   ]
  },
  {
   "cell_type": "code",
   "execution_count": 79,
   "id": "fd4e96fa",
   "metadata": {},
   "outputs": [
    {
     "data": {
      "text/html": [
       "<div>\n",
       "<style scoped>\n",
       "    .dataframe tbody tr th:only-of-type {\n",
       "        vertical-align: middle;\n",
       "    }\n",
       "\n",
       "    .dataframe tbody tr th {\n",
       "        vertical-align: top;\n",
       "    }\n",
       "\n",
       "    .dataframe thead th {\n",
       "        text-align: right;\n",
       "    }\n",
       "</style>\n",
       "<table border=\"1\" class=\"dataframe\">\n",
       "  <thead>\n",
       "    <tr style=\"text-align: right;\">\n",
       "      <th></th>\n",
       "      <th>breed</th>\n",
       "      <th>count(*)</th>\n",
       "    </tr>\n",
       "  </thead>\n",
       "  <tbody>\n",
       "    <tr>\n",
       "      <th>0</th>\n",
       "      <td>Afghan Hound/Labrador Retriever</td>\n",
       "      <td>1</td>\n",
       "    </tr>\n",
       "    <tr>\n",
       "      <th>1</th>\n",
       "      <td>Airedale Terrier Mix</td>\n",
       "      <td>1</td>\n",
       "    </tr>\n",
       "    <tr>\n",
       "      <th>2</th>\n",
       "      <td>Akbash Mix</td>\n",
       "      <td>2</td>\n",
       "    </tr>\n",
       "    <tr>\n",
       "      <th>3</th>\n",
       "      <td>Akita</td>\n",
       "      <td>2</td>\n",
       "    </tr>\n",
       "    <tr>\n",
       "      <th>4</th>\n",
       "      <td>Akita Mix</td>\n",
       "      <td>7</td>\n",
       "    </tr>\n",
       "    <tr>\n",
       "      <th>...</th>\n",
       "      <td>...</td>\n",
       "      <td>...</td>\n",
       "    </tr>\n",
       "    <tr>\n",
       "      <th>683</th>\n",
       "      <td>Yorkshire Terrier/Miniature Schnauzer</td>\n",
       "      <td>5</td>\n",
       "    </tr>\n",
       "    <tr>\n",
       "      <th>684</th>\n",
       "      <td>Yorkshire Terrier/Pomeranian</td>\n",
       "      <td>1</td>\n",
       "    </tr>\n",
       "    <tr>\n",
       "      <th>685</th>\n",
       "      <td>Yorkshire Terrier/Shih Tzu</td>\n",
       "      <td>1</td>\n",
       "    </tr>\n",
       "    <tr>\n",
       "      <th>686</th>\n",
       "      <td>Yorkshire Terrier/Standard Poodle</td>\n",
       "      <td>1</td>\n",
       "    </tr>\n",
       "    <tr>\n",
       "      <th>687</th>\n",
       "      <td>Yorkshire Terrier/Yorkshire Terrier</td>\n",
       "      <td>1</td>\n",
       "    </tr>\n",
       "  </tbody>\n",
       "</table>\n",
       "<p>688 rows × 2 columns</p>\n",
       "</div>"
      ],
      "text/plain": [
       "                                     breed  count(*)\n",
       "0          Afghan Hound/Labrador Retriever         1\n",
       "1                     Airedale Terrier Mix         1\n",
       "2                               Akbash Mix         2\n",
       "3                                    Akita         2\n",
       "4                                Akita Mix         7\n",
       "..                                     ...       ...\n",
       "683  Yorkshire Terrier/Miniature Schnauzer         5\n",
       "684           Yorkshire Terrier/Pomeranian         1\n",
       "685             Yorkshire Terrier/Shih Tzu         1\n",
       "686      Yorkshire Terrier/Standard Poodle         1\n",
       "687    Yorkshire Terrier/Yorkshire Terrier         1\n",
       "\n",
       "[688 rows x 2 columns]"
      ]
     },
     "execution_count": 79,
     "metadata": {},
     "output_type": "execute_result"
    }
   ],
   "source": [
    "query = \"select breed, count(*) from (select distinct * from new_df) group by breed\"\n",
    "df_query = sqldf(query)\n",
    "df_query"
   ]
  },
  {
   "cell_type": "code",
   "execution_count": 80,
   "id": "0d02230b",
   "metadata": {},
   "outputs": [
    {
     "name": "stderr",
     "output_type": "stream",
     "text": [
      "/Users/kelsey/.pyenv/versions/3.10.8/lib/python3.10/site-packages/snsql/sql/private_reader.py:141: UserWarning: The following columns are of type float: age_upon_outcome_(years), outcome_number, age_upon_intake_(years), time_in_shelter_days. \n",
      "summary statistics over floats will use Mechanism.laplace, which is not floating-point safe, \n",
      "This could lead to privacy leaks.\n",
      "  warnings.warn(\n"
     ]
    },
    {
     "data": {
      "text/html": [
       "<div>\n",
       "<style scoped>\n",
       "    .dataframe tbody tr th:only-of-type {\n",
       "        vertical-align: middle;\n",
       "    }\n",
       "\n",
       "    .dataframe tbody tr th {\n",
       "        vertical-align: top;\n",
       "    }\n",
       "\n",
       "    .dataframe thead th {\n",
       "        text-align: right;\n",
       "    }\n",
       "</style>\n",
       "<table border=\"1\" class=\"dataframe\">\n",
       "  <thead>\n",
       "    <tr style=\"text-align: right;\">\n",
       "      <th></th>\n",
       "      <th>breed</th>\n",
       "      <th>count</th>\n",
       "    </tr>\n",
       "  </thead>\n",
       "  <tbody>\n",
       "    <tr>\n",
       "      <th>1</th>\n",
       "      <td>Afghan Hound/Labrador Retriever</td>\n",
       "      <td>0</td>\n",
       "    </tr>\n",
       "    <tr>\n",
       "      <th>2</th>\n",
       "      <td>Airedale Terrier Mix</td>\n",
       "      <td>0</td>\n",
       "    </tr>\n",
       "    <tr>\n",
       "      <th>3</th>\n",
       "      <td>Akbash Mix</td>\n",
       "      <td>19</td>\n",
       "    </tr>\n",
       "    <tr>\n",
       "      <th>4</th>\n",
       "      <td>Akita</td>\n",
       "      <td>0</td>\n",
       "    </tr>\n",
       "    <tr>\n",
       "      <th>5</th>\n",
       "      <td>Akita Mix</td>\n",
       "      <td>0</td>\n",
       "    </tr>\n",
       "    <tr>\n",
       "      <th>...</th>\n",
       "      <td>...</td>\n",
       "      <td>...</td>\n",
       "    </tr>\n",
       "    <tr>\n",
       "      <th>684</th>\n",
       "      <td>Yorkshire Terrier/Miniature Schnauzer</td>\n",
       "      <td>42</td>\n",
       "    </tr>\n",
       "    <tr>\n",
       "      <th>685</th>\n",
       "      <td>Yorkshire Terrier/Pomeranian</td>\n",
       "      <td>0</td>\n",
       "    </tr>\n",
       "    <tr>\n",
       "      <th>686</th>\n",
       "      <td>Yorkshire Terrier/Shih Tzu</td>\n",
       "      <td>7</td>\n",
       "    </tr>\n",
       "    <tr>\n",
       "      <th>687</th>\n",
       "      <td>Yorkshire Terrier/Standard Poodle</td>\n",
       "      <td>0</td>\n",
       "    </tr>\n",
       "    <tr>\n",
       "      <th>688</th>\n",
       "      <td>Yorkshire Terrier/Yorkshire Terrier</td>\n",
       "      <td>0</td>\n",
       "    </tr>\n",
       "  </tbody>\n",
       "</table>\n",
       "<p>688 rows × 2 columns</p>\n",
       "</div>"
      ],
      "text/plain": [
       "                                     breed count\n",
       "1          Afghan Hound/Labrador Retriever     0\n",
       "2                     Airedale Terrier Mix     0\n",
       "3                               Akbash Mix    19\n",
       "4                                    Akita     0\n",
       "5                                Akita Mix     0\n",
       "..                                     ...   ...\n",
       "684  Yorkshire Terrier/Miniature Schnauzer    42\n",
       "685           Yorkshire Terrier/Pomeranian     0\n",
       "686             Yorkshire Terrier/Shih Tzu     7\n",
       "687      Yorkshire Terrier/Standard Poodle     0\n",
       "688    Yorkshire Terrier/Yorkshire Terrier     0\n",
       "\n",
       "[688 rows x 2 columns]"
      ]
     },
     "execution_count": 80,
     "metadata": {},
     "output_type": "execute_result"
    }
   ],
   "source": [
    "privacy = Privacy(epsilon=.2828, delta=0)\n",
    "meta_path = 'YAMLDataPrivacy.yaml'\n",
    "reader = snsql.from_df(new_df, privacy=privacy,\n",
    "metadata=meta_path)\n",
    "result = reader.execute(\"SELECT breed, count(*) FROM MySchema.AnimalShelter group by breed\")\n",
    "pd.DataFrame(result, columns = ['breed', 'count']).iloc[1:]"
   ]
  },
  {
   "cell_type": "code",
   "execution_count": 81,
   "id": "d5c63528",
   "metadata": {},
   "outputs": [
    {
     "name": "stderr",
     "output_type": "stream",
     "text": [
      "/Users/kelsey/.pyenv/versions/3.10.8/lib/python3.10/site-packages/snsql/sql/private_reader.py:141: UserWarning: The following columns are of type float: age_upon_outcome_(years), outcome_number, age_upon_intake_(years), time_in_shelter_days. \n",
      "summary statistics over floats will use Mechanism.laplace, which is not floating-point safe, \n",
      "This could lead to privacy leaks.\n",
      "  warnings.warn(\n",
      "/Users/kelsey/.pyenv/versions/3.10.8/lib/python3.10/site-packages/snsql/sql/private_reader.py:141: UserWarning: The following columns are of type float: age_upon_outcome_(years), outcome_number, age_upon_intake_(years), time_in_shelter_days. \n",
      "summary statistics over floats will use Mechanism.laplace, which is not floating-point safe, \n",
      "This could lead to privacy leaks.\n",
      "  warnings.warn(\n",
      "/Users/kelsey/.pyenv/versions/3.10.8/lib/python3.10/site-packages/snsql/sql/private_reader.py:141: UserWarning: The following columns are of type float: age_upon_outcome_(years), outcome_number, age_upon_intake_(years), time_in_shelter_days. \n",
      "summary statistics over floats will use Mechanism.laplace, which is not floating-point safe, \n",
      "This could lead to privacy leaks.\n",
      "  warnings.warn(\n",
      "/Users/kelsey/.pyenv/versions/3.10.8/lib/python3.10/site-packages/snsql/sql/private_reader.py:141: UserWarning: The following columns are of type float: age_upon_outcome_(years), outcome_number, age_upon_intake_(years), time_in_shelter_days. \n",
      "summary statistics over floats will use Mechanism.laplace, which is not floating-point safe, \n",
      "This could lead to privacy leaks.\n",
      "  warnings.warn(\n",
      "/Users/kelsey/.pyenv/versions/3.10.8/lib/python3.10/site-packages/snsql/sql/private_reader.py:141: UserWarning: The following columns are of type float: age_upon_outcome_(years), outcome_number, age_upon_intake_(years), time_in_shelter_days. \n",
      "summary statistics over floats will use Mechanism.laplace, which is not floating-point safe, \n",
      "This could lead to privacy leaks.\n",
      "  warnings.warn(\n",
      "/Users/kelsey/.pyenv/versions/3.10.8/lib/python3.10/site-packages/snsql/sql/private_reader.py:141: UserWarning: The following columns are of type float: age_upon_outcome_(years), outcome_number, age_upon_intake_(years), time_in_shelter_days. \n",
      "summary statistics over floats will use Mechanism.laplace, which is not floating-point safe, \n",
      "This could lead to privacy leaks.\n",
      "  warnings.warn(\n",
      "/Users/kelsey/.pyenv/versions/3.10.8/lib/python3.10/site-packages/snsql/sql/private_reader.py:141: UserWarning: The following columns are of type float: age_upon_outcome_(years), outcome_number, age_upon_intake_(years), time_in_shelter_days. \n",
      "summary statistics over floats will use Mechanism.laplace, which is not floating-point safe, \n",
      "This could lead to privacy leaks.\n",
      "  warnings.warn(\n",
      "/Users/kelsey/.pyenv/versions/3.10.8/lib/python3.10/site-packages/snsql/sql/private_reader.py:141: UserWarning: The following columns are of type float: age_upon_outcome_(years), outcome_number, age_upon_intake_(years), time_in_shelter_days. \n",
      "summary statistics over floats will use Mechanism.laplace, which is not floating-point safe, \n",
      "This could lead to privacy leaks.\n",
      "  warnings.warn(\n",
      "/Users/kelsey/.pyenv/versions/3.10.8/lib/python3.10/site-packages/snsql/sql/private_reader.py:141: UserWarning: The following columns are of type float: age_upon_outcome_(years), outcome_number, age_upon_intake_(years), time_in_shelter_days. \n",
      "summary statistics over floats will use Mechanism.laplace, which is not floating-point safe, \n",
      "This could lead to privacy leaks.\n",
      "  warnings.warn(\n"
     ]
    }
   ],
   "source": [
    "errors_list2, times_list2 = query_calc2(epsilons = [0.3, 0.6, 0.9, 1.2, 1.5, 1.8, 2.1, 2.4, 2.7] , query = \"SELECT breed, count(*) as ct FROM MySchema.AnimalShelter group by breed\")\n",
    "\n",
    "\n"
   ]
  },
  {
   "cell_type": "code",
   "execution_count": 82,
   "id": "31a235f2",
   "metadata": {},
   "outputs": [
    {
     "data": {
      "text/plain": [
       "Text(0, 0.5, 'error (%)')"
      ]
     },
     "execution_count": 82,
     "metadata": {},
     "output_type": "execute_result"
    },
    {
     "data": {
      "image/png": "[encoded data removed]",
      "text/plain": [
       "<Figure size 640x480 with 1 Axes>"
      ]
     },
     "metadata": {},
     "output_type": "display_data"
    }
   ],
   "source": [
    "epsilons_2 = [0.3, 0.6, 0.9, 1.2, 1.5, 1.8, 2.1, 2.4, 2.7]\n",
    "for xe, ye in zip(epsilons_2, errors_list2):\n",
    "    plt.scatter([xe] * len(ye), ye)\n",
    "    plt.axline((0.2828, 0), (0.2828, 0.1))\n",
    "plt.title('Errors for Breed Count Query (proposed Epsilon = 0.2828)')\n",
    "plt.xlabel('epsilon')\n",
    "plt.ylabel('error (%)')"
   ]
  },
  {
   "cell_type": "code",
   "execution_count": 83,
   "id": "13a85ea5",
   "metadata": {},
   "outputs": [
    {
     "data": {
      "text/plain": [
       "Text(0, 0.5, 'seconds')"
      ]
     },
     "execution_count": 83,
     "metadata": {},
     "output_type": "execute_result"
    },
    {
     "data": {
      "image/png": "[encoded data removed]",
      "text/plain": [
       "<Figure size 640x480 with 1 Axes>"
      ]
     },
     "metadata": {},
     "output_type": "display_data"
    }
   ],
   "source": [
    "for xe, ye in zip(epsilons_2, times_list2 ):\n",
    "    plt.scatter([xe] * len(ye), ye)\n",
    "plt.title('Run Time for Breed Count Query')\n",
    "plt.xlabel('epsilon')\n",
    "plt.ylabel('seconds')"
   ]
  },
  {
   "cell_type": "code",
   "execution_count": null,
   "id": "c50cf138",
   "metadata": {},
   "outputs": [],
   "source": []
  },
  {
   "cell_type": "code",
   "execution_count": null,
   "id": "e2dca752",
   "metadata": {},
   "outputs": [],
   "source": []
  },
  {
   "cell_type": "code",
   "execution_count": null,
   "id": "3caf5a65",
   "metadata": {},
   "outputs": [],
   "source": [
    "# average time in shelter"
   ]
  },
  {
   "cell_type": "code",
   "execution_count": 124,
   "id": "06787b8c",
   "metadata": {},
   "outputs": [
    {
     "data": {
      "text/plain": [
       "13.617055643013563"
      ]
     },
     "execution_count": 124,
     "metadata": {},
     "output_type": "execute_result"
    }
   ],
   "source": [
    "query = \"select avg(time_in_shelter_days) from (select distinct * from new_df)\"\n",
    "df_query = sqldf(query)\n",
    "df_query\n",
    "answer = df_query.iloc[0][0]\n",
    "answer"
   ]
  },
  {
   "cell_type": "code",
   "execution_count": 100,
   "id": "4eba0011",
   "metadata": {},
   "outputs": [
    {
     "name": "stderr",
     "output_type": "stream",
     "text": [
      "/Users/kelsey/.pyenv/versions/3.10.8/lib/python3.10/site-packages/snsql/sql/private_reader.py:141: UserWarning: The following columns are of type float: age_upon_outcome_(years), outcome_number, age_upon_intake_(years), time_in_shelter_days. \n",
      "summary statistics over floats will use Mechanism.laplace, which is not floating-point safe, \n",
      "This could lead to privacy leaks.\n",
      "  warnings.warn(\n"
     ]
    },
    {
     "data": {
      "text/plain": [
       "[['???'], [13.56050832391631]]"
      ]
     },
     "execution_count": 100,
     "metadata": {},
     "output_type": "execute_result"
    }
   ],
   "source": [
    "privacy = Privacy(epsilon=189.5, delta=0)\n",
    "meta_path = 'YAMLDataPrivacy.yaml'\n",
    "reader = snsql.from_df(new_df, privacy=privacy,\n",
    "metadata=meta_path)\n",
    "noisy_result = reader.execute(\" select avg(time_in_shelter_days) FROM MySchema.AnimalShelter\")\n",
    "noisy_result"
   ]
  },
  {
   "cell_type": "code",
   "execution_count": null,
   "id": "94754321",
   "metadata": {},
   "outputs": [],
   "source": []
  },
  {
   "cell_type": "code",
   "execution_count": null,
   "id": "05e4ad03",
   "metadata": {},
   "outputs": [],
   "source": []
  },
  {
   "cell_type": "code",
   "execution_count": 125,
   "id": "a7cea129",
   "metadata": {},
   "outputs": [
    {
     "name": "stderr",
     "output_type": "stream",
     "text": [
      "/Users/kelsey/.pyenv/versions/3.10.8/lib/python3.10/site-packages/snsql/sql/private_reader.py:141: UserWarning: The following columns are of type float: age_upon_outcome_(years), outcome_number, age_upon_intake_(years), time_in_shelter_days. \n",
      "summary statistics over floats will use Mechanism.laplace, which is not floating-point safe, \n",
      "This could lead to privacy leaks.\n",
      "  warnings.warn(\n",
      "/Users/kelsey/.pyenv/versions/3.10.8/lib/python3.10/site-packages/snsql/sql/private_reader.py:141: UserWarning: The following columns are of type float: age_upon_outcome_(years), outcome_number, age_upon_intake_(years), time_in_shelter_days. \n",
      "summary statistics over floats will use Mechanism.laplace, which is not floating-point safe, \n",
      "This could lead to privacy leaks.\n",
      "  warnings.warn(\n",
      "/Users/kelsey/.pyenv/versions/3.10.8/lib/python3.10/site-packages/snsql/sql/private_reader.py:141: UserWarning: The following columns are of type float: age_upon_outcome_(years), outcome_number, age_upon_intake_(years), time_in_shelter_days. \n",
      "summary statistics over floats will use Mechanism.laplace, which is not floating-point safe, \n",
      "This could lead to privacy leaks.\n",
      "  warnings.warn(\n",
      "/Users/kelsey/.pyenv/versions/3.10.8/lib/python3.10/site-packages/snsql/sql/private_reader.py:141: UserWarning: The following columns are of type float: age_upon_outcome_(years), outcome_number, age_upon_intake_(years), time_in_shelter_days. \n",
      "summary statistics over floats will use Mechanism.laplace, which is not floating-point safe, \n",
      "This could lead to privacy leaks.\n",
      "  warnings.warn(\n",
      "/Users/kelsey/.pyenv/versions/3.10.8/lib/python3.10/site-packages/snsql/sql/private_reader.py:141: UserWarning: The following columns are of type float: age_upon_outcome_(years), outcome_number, age_upon_intake_(years), time_in_shelter_days. \n",
      "summary statistics over floats will use Mechanism.laplace, which is not floating-point safe, \n",
      "This could lead to privacy leaks.\n",
      "  warnings.warn(\n"
     ]
    }
   ],
   "source": [
    "errors_list3, times_list3 = query_calc(epsilons = [100.0, 150.0, 200.0, 250.0, 300.0] , query = \"SELECT avg(time_in_shelter_days) FROM MySchema.AnimalShelter\", truth_val=answer)\n"
   ]
  },
  {
   "cell_type": "code",
   "execution_count": 128,
   "id": "10dbe20c",
   "metadata": {},
   "outputs": [
    {
     "data": {
      "text/plain": [
       "Text(0, 0.5, 'error (%)')"
      ]
     },
     "execution_count": 128,
     "metadata": {},
     "output_type": "execute_result"
    },
    {
     "data": {
      "image/png": "[encoded data removed]",
      "text/plain": [
       "<Figure size 640x480 with 1 Axes>"
      ]
     },
     "metadata": {},
     "output_type": "display_data"
    }
   ],
   "source": [
    "epsilons_3 = [100.0, 150.0, 200.0, 250.0, 300.0] \n",
    "for xe, ye in zip(epsilons_3, errors_list3):\n",
    "    plt.scatter([xe] * len(ye), ye)\n",
    "plt.title('Errors for Average Time in Shelter Days (proposed Epsilon = 189.5)')\n",
    "plt.xlabel('epsilon')\n",
    "plt.ylabel('error (%)')"
   ]
  },
  {
   "cell_type": "code",
   "execution_count": 129,
   "id": "49a40e2c",
   "metadata": {},
   "outputs": [
    {
     "data": {
      "text/plain": [
       "Text(0, 0.5, 'seconds')"
      ]
     },
     "execution_count": 129,
     "metadata": {},
     "output_type": "execute_result"
    },
    {
     "data": {
      "image/png": "[encoded data removed]",
      "text/plain": [
       "<Figure size 640x480 with 1 Axes>"
      ]
     },
     "metadata": {},
     "output_type": "display_data"
    }
   ],
   "source": [
    "for xe, ye in zip(epsilons_3, times_list3 ):\n",
    "    plt.scatter([xe] * len(ye), ye)\n",
    "plt.title('Run Time for Average Time in Shelter Days Query')\n",
    "plt.xlabel('epsilon')\n",
    "plt.ylabel('seconds')"
   ]
  },
  {
   "cell_type": "code",
   "execution_count": null,
   "id": "30db5997",
   "metadata": {},
   "outputs": [],
   "source": []
  },
  {
   "cell_type": "code",
   "execution_count": null,
   "id": "3569087a",
   "metadata": {},
   "outputs": [],
   "source": []
  },
  {
   "cell_type": "code",
   "execution_count": 138,
   "id": "609a1e84",
   "metadata": {},
   "outputs": [
    {
     "data": {
      "text/html": [
       "<div>\n",
       "<style scoped>\n",
       "    .dataframe tbody tr th:only-of-type {\n",
       "        vertical-align: middle;\n",
       "    }\n",
       "\n",
       "    .dataframe tbody tr th {\n",
       "        vertical-align: top;\n",
       "    }\n",
       "\n",
       "    .dataframe thead th {\n",
       "        text-align: right;\n",
       "    }\n",
       "</style>\n",
       "<table border=\"1\" class=\"dataframe\">\n",
       "  <thead>\n",
       "    <tr style=\"text-align: right;\">\n",
       "      <th></th>\n",
       "      <th>intake_month</th>\n",
       "      <th>count(*)</th>\n",
       "    </tr>\n",
       "  </thead>\n",
       "  <tbody>\n",
       "    <tr>\n",
       "      <th>0</th>\n",
       "      <td>1</td>\n",
       "      <td>823</td>\n",
       "    </tr>\n",
       "    <tr>\n",
       "      <th>1</th>\n",
       "      <td>2</td>\n",
       "      <td>850</td>\n",
       "    </tr>\n",
       "    <tr>\n",
       "      <th>2</th>\n",
       "      <td>3</td>\n",
       "      <td>828</td>\n",
       "    </tr>\n",
       "    <tr>\n",
       "      <th>3</th>\n",
       "      <td>4</td>\n",
       "      <td>789</td>\n",
       "    </tr>\n",
       "    <tr>\n",
       "      <th>4</th>\n",
       "      <td>5</td>\n",
       "      <td>893</td>\n",
       "    </tr>\n",
       "    <tr>\n",
       "      <th>5</th>\n",
       "      <td>6</td>\n",
       "      <td>811</td>\n",
       "    </tr>\n",
       "    <tr>\n",
       "      <th>6</th>\n",
       "      <td>7</td>\n",
       "      <td>833</td>\n",
       "    </tr>\n",
       "    <tr>\n",
       "      <th>7</th>\n",
       "      <td>8</td>\n",
       "      <td>818</td>\n",
       "    </tr>\n",
       "    <tr>\n",
       "      <th>8</th>\n",
       "      <td>9</td>\n",
       "      <td>934</td>\n",
       "    </tr>\n",
       "    <tr>\n",
       "      <th>9</th>\n",
       "      <td>10</td>\n",
       "      <td>809</td>\n",
       "    </tr>\n",
       "    <tr>\n",
       "      <th>10</th>\n",
       "      <td>11</td>\n",
       "      <td>700</td>\n",
       "    </tr>\n",
       "    <tr>\n",
       "      <th>11</th>\n",
       "      <td>12</td>\n",
       "      <td>758</td>\n",
       "    </tr>\n",
       "  </tbody>\n",
       "</table>\n",
       "</div>"
      ],
      "text/plain": [
       "    intake_month  count(*)\n",
       "0              1       823\n",
       "1              2       850\n",
       "2              3       828\n",
       "3              4       789\n",
       "4              5       893\n",
       "5              6       811\n",
       "6              7       833\n",
       "7              8       818\n",
       "8              9       934\n",
       "9             10       809\n",
       "10            11       700\n",
       "11            12       758"
      ]
     },
     "execution_count": 138,
     "metadata": {},
     "output_type": "execute_result"
    }
   ],
   "source": [
    "query = \"select intake_month, count(*) from (select distinct * from new_df) group by intake_month\"\n",
    "df_query = sqldf(query)\n",
    "df2 = df_query.values.tolist()\n",
    "df_query"
   ]
  },
  {
   "cell_type": "code",
   "execution_count": 141,
   "id": "fe9108bc",
   "metadata": {},
   "outputs": [
    {
     "name": "stderr",
     "output_type": "stream",
     "text": [
      "/Users/kelsey/.pyenv/versions/3.10.8/lib/python3.10/site-packages/snsql/sql/private_reader.py:141: UserWarning: The following columns are of type float: age_upon_outcome_(years), outcome_number, age_upon_intake_(years), time_in_shelter_days. \n",
      "summary statistics over floats will use Mechanism.laplace, which is not floating-point safe, \n",
      "This could lead to privacy leaks.\n",
      "  warnings.warn(\n"
     ]
    },
    {
     "data": {
      "text/html": [
       "<div>\n",
       "<style scoped>\n",
       "    .dataframe tbody tr th:only-of-type {\n",
       "        vertical-align: middle;\n",
       "    }\n",
       "\n",
       "    .dataframe tbody tr th {\n",
       "        vertical-align: top;\n",
       "    }\n",
       "\n",
       "    .dataframe thead th {\n",
       "        text-align: right;\n",
       "    }\n",
       "</style>\n",
       "<table border=\"1\" class=\"dataframe\">\n",
       "  <thead>\n",
       "    <tr style=\"text-align: right;\">\n",
       "      <th></th>\n",
       "      <th>month</th>\n",
       "      <th>count</th>\n",
       "    </tr>\n",
       "  </thead>\n",
       "  <tbody>\n",
       "    <tr>\n",
       "      <th>1</th>\n",
       "      <td>1</td>\n",
       "      <td>0</td>\n",
       "    </tr>\n",
       "    <tr>\n",
       "      <th>2</th>\n",
       "      <td>2</td>\n",
       "      <td>1796</td>\n",
       "    </tr>\n",
       "    <tr>\n",
       "      <th>3</th>\n",
       "      <td>3</td>\n",
       "      <td>235</td>\n",
       "    </tr>\n",
       "    <tr>\n",
       "      <th>4</th>\n",
       "      <td>4</td>\n",
       "      <td>0</td>\n",
       "    </tr>\n",
       "    <tr>\n",
       "      <th>5</th>\n",
       "      <td>5</td>\n",
       "      <td>734</td>\n",
       "    </tr>\n",
       "    <tr>\n",
       "      <th>6</th>\n",
       "      <td>6</td>\n",
       "      <td>703</td>\n",
       "    </tr>\n",
       "    <tr>\n",
       "      <th>7</th>\n",
       "      <td>7</td>\n",
       "      <td>1391</td>\n",
       "    </tr>\n",
       "    <tr>\n",
       "      <th>8</th>\n",
       "      <td>8</td>\n",
       "      <td>384</td>\n",
       "    </tr>\n",
       "    <tr>\n",
       "      <th>9</th>\n",
       "      <td>9</td>\n",
       "      <td>361</td>\n",
       "    </tr>\n",
       "    <tr>\n",
       "      <th>10</th>\n",
       "      <td>10</td>\n",
       "      <td>669</td>\n",
       "    </tr>\n",
       "    <tr>\n",
       "      <th>11</th>\n",
       "      <td>11</td>\n",
       "      <td>0</td>\n",
       "    </tr>\n",
       "    <tr>\n",
       "      <th>12</th>\n",
       "      <td>12</td>\n",
       "      <td>811</td>\n",
       "    </tr>\n",
       "  </tbody>\n",
       "</table>\n",
       "</div>"
      ],
      "text/plain": [
       "   month count\n",
       "1      1     0\n",
       "2      2  1796\n",
       "3      3   235\n",
       "4      4     0\n",
       "5      5   734\n",
       "6      6   703\n",
       "7      7  1391\n",
       "8      8   384\n",
       "9      9   361\n",
       "10    10   669\n",
       "11    11     0\n",
       "12    12   811"
      ]
     },
     "execution_count": 141,
     "metadata": {},
     "output_type": "execute_result"
    }
   ],
   "source": [
    "privacy = Privacy(epsilon=0.0107, delta=0)\n",
    "meta_path = 'YAMLDataPrivacy.yaml'\n",
    "reader = snsql.from_df(new_df, privacy=privacy,\n",
    "metadata=meta_path)\n",
    "result = reader.execute(\"SELECT intake_month, count(*) FROM MySchema.AnimalShelter group by intake_month\")\n",
    "pd.DataFrame(result, columns = ['month', 'count']).iloc[1:]"
   ]
  },
  {
   "cell_type": "code",
   "execution_count": 142,
   "id": "7622d470",
   "metadata": {},
   "outputs": [
    {
     "name": "stderr",
     "output_type": "stream",
     "text": [
      "/Users/kelsey/.pyenv/versions/3.10.8/lib/python3.10/site-packages/snsql/sql/private_reader.py:141: UserWarning: The following columns are of type float: age_upon_outcome_(years), outcome_number, age_upon_intake_(years), time_in_shelter_days. \n",
      "summary statistics over floats will use Mechanism.laplace, which is not floating-point safe, \n",
      "This could lead to privacy leaks.\n",
      "  warnings.warn(\n",
      "/Users/kelsey/.pyenv/versions/3.10.8/lib/python3.10/site-packages/snsql/sql/private_reader.py:141: UserWarning: The following columns are of type float: age_upon_outcome_(years), outcome_number, age_upon_intake_(years), time_in_shelter_days. \n",
      "summary statistics over floats will use Mechanism.laplace, which is not floating-point safe, \n",
      "This could lead to privacy leaks.\n",
      "  warnings.warn(\n",
      "/Users/kelsey/.pyenv/versions/3.10.8/lib/python3.10/site-packages/snsql/sql/private_reader.py:141: UserWarning: The following columns are of type float: age_upon_outcome_(years), outcome_number, age_upon_intake_(years), time_in_shelter_days. \n",
      "summary statistics over floats will use Mechanism.laplace, which is not floating-point safe, \n",
      "This could lead to privacy leaks.\n",
      "  warnings.warn(\n",
      "/Users/kelsey/.pyenv/versions/3.10.8/lib/python3.10/site-packages/snsql/sql/private_reader.py:141: UserWarning: The following columns are of type float: age_upon_outcome_(years), outcome_number, age_upon_intake_(years), time_in_shelter_days. \n",
      "summary statistics over floats will use Mechanism.laplace, which is not floating-point safe, \n",
      "This could lead to privacy leaks.\n",
      "  warnings.warn(\n",
      "/Users/kelsey/.pyenv/versions/3.10.8/lib/python3.10/site-packages/snsql/sql/private_reader.py:141: UserWarning: The following columns are of type float: age_upon_outcome_(years), outcome_number, age_upon_intake_(years), time_in_shelter_days. \n",
      "summary statistics over floats will use Mechanism.laplace, which is not floating-point safe, \n",
      "This could lead to privacy leaks.\n",
      "  warnings.warn(\n",
      "/Users/kelsey/.pyenv/versions/3.10.8/lib/python3.10/site-packages/snsql/sql/private_reader.py:141: UserWarning: The following columns are of type float: age_upon_outcome_(years), outcome_number, age_upon_intake_(years), time_in_shelter_days. \n",
      "summary statistics over floats will use Mechanism.laplace, which is not floating-point safe, \n",
      "This could lead to privacy leaks.\n",
      "  warnings.warn(\n",
      "/Users/kelsey/.pyenv/versions/3.10.8/lib/python3.10/site-packages/snsql/sql/private_reader.py:141: UserWarning: The following columns are of type float: age_upon_outcome_(years), outcome_number, age_upon_intake_(years), time_in_shelter_days. \n",
      "summary statistics over floats will use Mechanism.laplace, which is not floating-point safe, \n",
      "This could lead to privacy leaks.\n",
      "  warnings.warn(\n"
     ]
    }
   ],
   "source": [
    "errors_list4, times_list4 = query_calc2(epsilons = [0.05, 0.1, 0.15, 0.2, 0.25, 0.3, 0.35] , query = \"SELECT intake_month, count(*) FROM MySchema.AnimalShelter group by intake_month\")\n",
    "\n"
   ]
  },
  {
   "cell_type": "code",
   "execution_count": 143,
   "id": "d82740b8",
   "metadata": {},
   "outputs": [
    {
     "data": {
      "text/plain": [
       "Text(0, 0.5, 'error (%)')"
      ]
     },
     "execution_count": 143,
     "metadata": {},
     "output_type": "execute_result"
    },
    {
     "data": {
      "image/png": "[encoded data removed]",
      "text/plain": [
       "<Figure size 640x480 with 1 Axes>"
      ]
     },
     "metadata": {},
     "output_type": "display_data"
    }
   ],
   "source": [
    "epsilons_4 =  [0.05, 0.1, 0.15, 0.2, 0.25, 0.3, 0.35]\n",
    "for xe, ye in zip(epsilons_4, errors_list4):\n",
    "    plt.scatter([xe] * len(ye), ye)\n",
    "    plt.axline((0.0707, 0), (0.0707, 0.1))\n",
    "plt.title('Errors for Animal Count by Intake Month (proposed Epsilon = 0.0707)')\n",
    "plt.xlabel('epsilon')\n",
    "plt.ylabel('error (%)')"
   ]
  },
  {
   "cell_type": "code",
   "execution_count": 144,
   "id": "abcaad5e",
   "metadata": {},
   "outputs": [
    {
     "data": {
      "text/plain": [
       "Text(0, 0.5, 'seconds')"
      ]
     },
     "execution_count": 144,
     "metadata": {},
     "output_type": "execute_result"
    },
    {
     "data": {
      "image/png": "[encoded data removed]",
      "text/plain": [
       "<Figure size 640x480 with 1 Axes>"
      ]
     },
     "metadata": {},
     "output_type": "display_data"
    }
   ],
   "source": [
    "for xe, ye in zip(epsilons_4, times_list4 ):\n",
    "    plt.scatter([xe] * len(ye), ye)\n",
    "plt.title('Run Time for Animal Count by Intake Month')\n",
    "plt.xlabel('epsilon')\n",
    "plt.ylabel('seconds')"
   ]
  },
  {
   "cell_type": "code",
   "execution_count": null,
   "id": "f7d8b321",
   "metadata": {},
   "outputs": [],
   "source": []
  },
  {
   "cell_type": "code",
   "execution_count": null,
   "id": "98d14fa2",
   "metadata": {},
   "outputs": [],
   "source": []
  },
  {
   "cell_type": "code",
   "execution_count": null,
   "id": "84603b7b",
   "metadata": {},
   "outputs": [],
   "source": []
  },
  {
   "cell_type": "code",
   "execution_count": null,
   "id": "b4840e2e",
   "metadata": {},
   "outputs": [],
   "source": []
  },
  {
   "cell_type": "code",
   "execution_count": 145,
   "id": "1ecdf2e3",
   "metadata": {},
   "outputs": [],
   "source": [
    "query = \"select sex_upon_outcome, avg(time_in_shelter_days) from (select distinct * from new_df) group by sex_upon_outcome\"\n",
    "df_query = sqldf(query)\n",
    "df_query\n",
    "df2 = df_query.values.tolist()"
   ]
  },
  {
   "cell_type": "code",
   "execution_count": 146,
   "id": "2d6d0bc4",
   "metadata": {},
   "outputs": [
    {
     "name": "stderr",
     "output_type": "stream",
     "text": [
      "/Users/kelsey/.pyenv/versions/3.10.8/lib/python3.10/site-packages/snsql/sql/private_reader.py:141: UserWarning: The following columns are of type float: age_upon_outcome_(years), outcome_number, age_upon_intake_(years), time_in_shelter_days. \n",
      "summary statistics over floats will use Mechanism.laplace, which is not floating-point safe, \n",
      "This could lead to privacy leaks.\n",
      "  warnings.warn(\n"
     ]
    },
    {
     "data": {
      "text/html": [
       "<div>\n",
       "<style scoped>\n",
       "    .dataframe tbody tr th:only-of-type {\n",
       "        vertical-align: middle;\n",
       "    }\n",
       "\n",
       "    .dataframe tbody tr th {\n",
       "        vertical-align: top;\n",
       "    }\n",
       "\n",
       "    .dataframe thead th {\n",
       "        text-align: right;\n",
       "    }\n",
       "</style>\n",
       "<table border=\"1\" class=\"dataframe\">\n",
       "  <thead>\n",
       "    <tr style=\"text-align: right;\">\n",
       "      <th></th>\n",
       "      <th>month</th>\n",
       "      <th>count</th>\n",
       "    </tr>\n",
       "  </thead>\n",
       "  <tbody>\n",
       "    <tr>\n",
       "      <th>1</th>\n",
       "      <td>Intact Female</td>\n",
       "      <td>15.405752</td>\n",
       "    </tr>\n",
       "    <tr>\n",
       "      <th>2</th>\n",
       "      <td>Intact Male</td>\n",
       "      <td>6.643165</td>\n",
       "    </tr>\n",
       "    <tr>\n",
       "      <th>3</th>\n",
       "      <td>Neutered Male</td>\n",
       "      <td>16.47577</td>\n",
       "    </tr>\n",
       "    <tr>\n",
       "      <th>4</th>\n",
       "      <td>Spayed Female</td>\n",
       "      <td>12.82555</td>\n",
       "    </tr>\n",
       "    <tr>\n",
       "      <th>5</th>\n",
       "      <td>Unknown</td>\n",
       "      <td>27.026165</td>\n",
       "    </tr>\n",
       "  </tbody>\n",
       "</table>\n",
       "</div>"
      ],
      "text/plain": [
       "           month      count\n",
       "1  Intact Female  15.405752\n",
       "2    Intact Male   6.643165\n",
       "3  Neutered Male   16.47577\n",
       "4  Spayed Female   12.82555\n",
       "5        Unknown  27.026165"
      ]
     },
     "execution_count": 146,
     "metadata": {},
     "output_type": "execute_result"
    }
   ],
   "source": [
    "privacy = Privacy(epsilon=47.38, delta=0)\n",
    "meta_path = 'YAMLDataPrivacy.yaml'\n",
    "reader = snsql.from_df(new_df, privacy=privacy,\n",
    "metadata=meta_path)\n",
    "result = reader.execute(\"SELECT sex_upon_outcome,  avg(time_in_shelter_days) FROM MySchema.AnimalShelter group by sex_upon_outcome\")\n",
    "pd.DataFrame(result, columns = ['month', 'count']).iloc[1:]"
   ]
  },
  {
   "cell_type": "code",
   "execution_count": 147,
   "id": "f41f4c8c",
   "metadata": {},
   "outputs": [
    {
     "name": "stderr",
     "output_type": "stream",
     "text": [
      "/Users/kelsey/.pyenv/versions/3.10.8/lib/python3.10/site-packages/snsql/sql/private_reader.py:141: UserWarning: The following columns are of type float: age_upon_outcome_(years), outcome_number, age_upon_intake_(years), time_in_shelter_days. \n",
      "summary statistics over floats will use Mechanism.laplace, which is not floating-point safe, \n",
      "This could lead to privacy leaks.\n",
      "  warnings.warn(\n",
      "/Users/kelsey/.pyenv/versions/3.10.8/lib/python3.10/site-packages/snsql/sql/private_reader.py:141: UserWarning: The following columns are of type float: age_upon_outcome_(years), outcome_number, age_upon_intake_(years), time_in_shelter_days. \n",
      "summary statistics over floats will use Mechanism.laplace, which is not floating-point safe, \n",
      "This could lead to privacy leaks.\n",
      "  warnings.warn(\n",
      "/Users/kelsey/.pyenv/versions/3.10.8/lib/python3.10/site-packages/snsql/sql/private_reader.py:141: UserWarning: The following columns are of type float: age_upon_outcome_(years), outcome_number, age_upon_intake_(years), time_in_shelter_days. \n",
      "summary statistics over floats will use Mechanism.laplace, which is not floating-point safe, \n",
      "This could lead to privacy leaks.\n",
      "  warnings.warn(\n",
      "/Users/kelsey/.pyenv/versions/3.10.8/lib/python3.10/site-packages/snsql/sql/private_reader.py:141: UserWarning: The following columns are of type float: age_upon_outcome_(years), outcome_number, age_upon_intake_(years), time_in_shelter_days. \n",
      "summary statistics over floats will use Mechanism.laplace, which is not floating-point safe, \n",
      "This could lead to privacy leaks.\n",
      "  warnings.warn(\n",
      "/Users/kelsey/.pyenv/versions/3.10.8/lib/python3.10/site-packages/snsql/sql/private_reader.py:141: UserWarning: The following columns are of type float: age_upon_outcome_(years), outcome_number, age_upon_intake_(years), time_in_shelter_days. \n",
      "summary statistics over floats will use Mechanism.laplace, which is not floating-point safe, \n",
      "This could lead to privacy leaks.\n",
      "  warnings.warn(\n",
      "/Users/kelsey/.pyenv/versions/3.10.8/lib/python3.10/site-packages/snsql/sql/private_reader.py:141: UserWarning: The following columns are of type float: age_upon_outcome_(years), outcome_number, age_upon_intake_(years), time_in_shelter_days. \n",
      "summary statistics over floats will use Mechanism.laplace, which is not floating-point safe, \n",
      "This could lead to privacy leaks.\n",
      "  warnings.warn(\n",
      "/Users/kelsey/.pyenv/versions/3.10.8/lib/python3.10/site-packages/snsql/sql/private_reader.py:141: UserWarning: The following columns are of type float: age_upon_outcome_(years), outcome_number, age_upon_intake_(years), time_in_shelter_days. \n",
      "summary statistics over floats will use Mechanism.laplace, which is not floating-point safe, \n",
      "This could lead to privacy leaks.\n",
      "  warnings.warn(\n",
      "/Users/kelsey/.pyenv/versions/3.10.8/lib/python3.10/site-packages/snsql/sql/private_reader.py:141: UserWarning: The following columns are of type float: age_upon_outcome_(years), outcome_number, age_upon_intake_(years), time_in_shelter_days. \n",
      "summary statistics over floats will use Mechanism.laplace, which is not floating-point safe, \n",
      "This could lead to privacy leaks.\n",
      "  warnings.warn(\n"
     ]
    }
   ],
   "source": [
    "errors_list5, times_list5 = query_calc2(epsilons = [20.0, 40.0, 60.0, 80.0, 100.0, 120.0, 140.0, 160.0] , query = \"SELECT sex_upon_outcome, avg(time_in_shelter_days) FROM MySchema.AnimalShelter group by sex_upon_outcome\")"
   ]
  },
  {
   "cell_type": "code",
   "execution_count": 148,
   "id": "c59a9866",
   "metadata": {},
   "outputs": [
    {
     "data": {
      "text/plain": [
       "Text(0, 0.5, 'error (%)')"
      ]
     },
     "execution_count": 148,
     "metadata": {},
     "output_type": "execute_result"
    },
    {
     "data": {
      "image/png": "[encoded data removed]",
      "text/plain": [
       "<Figure size 640x480 with 1 Axes>"
      ]
     },
     "metadata": {},
     "output_type": "display_data"
    }
   ],
   "source": [
    "epsilons_5 = [20.0, 40.0, 60.0, 80.0, 100.0, 120.0, 140.0, 160.0]\n",
    "for xe, ye in zip(epsilons_5, errors_list5):\n",
    "    plt.scatter([xe] * len(ye), ye)\n",
    "    plt.axline((47.38, 0), (47.38, 0.1))\n",
    "plt.title('Errors for Average Time In Shelter by Sex (proposed Epsilon = 47.38)')\n",
    "plt.xlabel('epsilon')\n",
    "plt.ylabel('error (%)')"
   ]
  },
  {
   "cell_type": "code",
   "execution_count": null,
   "id": "5a9c54be",
   "metadata": {},
   "outputs": [],
   "source": []
  },
  {
   "cell_type": "code",
   "execution_count": 151,
   "id": "71b72f0d",
   "metadata": {
    "scrolled": true
   },
   "outputs": [
    {
     "data": {
      "text/plain": [
       "Text(0, 0.5, 'seconds')"
      ]
     },
     "execution_count": 151,
     "metadata": {},
     "output_type": "execute_result"
    },
    {
     "data": {
      "image/png": "[encoded data removed]",
      "text/plain": [
       "<Figure size 640x480 with 1 Axes>"
      ]
     },
     "metadata": {},
     "output_type": "display_data"
    }
   ],
   "source": [
    "for xe, ye in zip(epsilons_5, times_list5):\n",
    "    plt.scatter([xe] * len(ye), ye)\n",
    "plt.title('Run Time for Average Time In Shelter by Sex')\n",
    "plt.xlabel('epsilon')\n",
    "plt.ylabel('seconds')"
   ]
  },
  {
   "cell_type": "code",
   "execution_count": null,
   "id": "4ea6ef93",
   "metadata": {},
   "outputs": [],
   "source": []
  }
 ],
 "metadata": {
  "kernelspec": {
   "display_name": "Python 3 (ipykernel)",
   "language": "python",
   "name": "python3"
  },
  "language_info": {
   "codemirror_mode": {
    "name": "ipython",
    "version": 3
   },
   "file_extension": ".py",
   "mimetype": "text/x-python",
   "name": "python",
   "nbconvert_exporter": "python",
   "pygments_lexer": "ipython3",
   "version": "3.10.8"
  }
 },
 "nbformat": 4,
 "nbformat_minor": 5
}
